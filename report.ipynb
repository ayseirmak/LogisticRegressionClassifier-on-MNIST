{
 "cells": [
  {
   "cell_type": "markdown",
   "metadata": {},
   "source": [
    "Name: Ayse Irmak Ercevik\n",
    "\n",
    "ID: 181104003\n",
    "\n",
    "Course: BIL570 /BIL470"
   ]
  },
  {
   "cell_type": "code",
   "execution_count": 1,
   "metadata": {},
   "outputs": [],
   "source": [
    "from sklearn.model_selection import train_test_split\n",
    "from sklearn import metrics\n",
    "from sklearn.metrics import roc_curve, auc\n",
    "from sklearn.preprocessing import label_binarize\n",
    "\n",
    "from itertools import cycle"
   ]
  },
  {
   "cell_type": "code",
   "execution_count": 2,
   "metadata": {},
   "outputs": [],
   "source": [
    "import pandas as pd\n",
    "import numpy as np\n",
    "import matplotlib.pyplot as plt\n",
    "import seaborn as sns\n",
    "from urllib import request\n",
    "import gzip\n",
    "import pickle\n",
    "import shutil\n",
    "\n",
    "from logreg import LogisticRegression"
   ]
  },
  {
   "cell_type": "markdown",
   "metadata": {},
   "source": [
    "# Veri Setinin Yüklenmesi:"
   ]
  },
  {
   "cell_type": "markdown",
   "metadata": {},
   "source": [
    "Aşağıdaki adreslerden .gz uzantılı veri seti yüklenmiştir.\n",
    "https://ossci-datasets.s3.amazonaws.com/mnist/train-images-idx3-ubyte.gz\n",
    "https://ossci-datasets.s3.amazonaws.com/mnist/train-labels-idx1-ubyte.gz\n",
    "https://ossci-datasets.s3.amazonaws.com/mnist/t10k-images-idx3-ubyte.gz\n",
    "https://ossci-datasets.s3.amazonaws.com/mnist/t10k-labels-idx1-ubyte.gz"
   ]
  },
  {
   "cell_type": "code",
   "execution_count": 3,
   "metadata": {},
   "outputs": [
    {
     "name": "stdout",
     "output_type": "stream",
     "text": [
      "Save complete.\n"
     ]
    }
   ],
   "source": [
    "filename = [\n",
    "[\"training_images\",\"train-images-idx3-ubyte.gz\"],\n",
    "[\"test_images\",\"t10k-images-idx3-ubyte.gz\"],\n",
    "[\"training_labels\",\"train-labels-idx1-ubyte.gz\"],\n",
    "[\"test_labels\",\"t10k-labels-idx1-ubyte.gz\"]\n",
    "]\n",
    "\n",
    "def save_mnist():\n",
    "    with gzip.open(\"train-images-idx3-ubyte.gz\",'rb') as f_in:\n",
    "        with open(\"train-images.idx3-ubyte\",'wb') as f_out:\n",
    "            shutil.copyfileobj(f_in,f_out)\n",
    "    with gzip.open(\"t10k-images-idx3-ubyte.gz\",'rb') as f_in:\n",
    "        with open(\"t10k-images.idx3-ubyte\",'wb') as f_out:\n",
    "            shutil.copyfileobj(f_in,f_out)\n",
    "    with gzip.open(\"train-labels-idx1-ubyte.gz\",'rb') as f_in:\n",
    "        with open(\"train-labels.idx1-ubyte\",'wb') as f_out:\n",
    "            shutil.copyfileobj(f_in,f_out)\n",
    "    with gzip.open(\"t10k-labels-idx1-ubyte.gz\",'rb') as f_in:\n",
    "        with open(\"t10k-labels.idx1-ubyte\",'wb') as f_out:\n",
    "            shutil.copyfileobj(f_in,f_out)\n",
    "            \n",
    "    mnist = {}\n",
    "    for name in filename[:2]:\n",
    "        with gzip.open(name[1], 'rb') as f:\n",
    "            mnist[name[0]] = np.frombuffer(f.read(), np.uint8, offset=16).reshape(-1,28*28)\n",
    "    for name in filename[-2:]:\n",
    "        with gzip.open(name[1], 'rb') as f:\n",
    "            mnist[name[0]] = np.frombuffer(f.read(), np.uint8, offset=8)\n",
    "    with open(\"mnist.pkl\", 'wb') as f:\n",
    "        pickle.dump(mnist,f)\n",
    "    print(\"Save complete.\")\n",
    "\n",
    "def init():\n",
    "    save_mnist()\n",
    "\n",
    "def load():\n",
    "    with open(\"mnist.pkl\",'rb') as f:\n",
    "        mnist = pickle.load(f)\n",
    "    return mnist[\"training_images\"], mnist[\"training_labels\"], mnist[\"test_images\"], mnist[\"test_labels\"];\n",
    "\n",
    "def load_list():\n",
    "    with open(\"mnist.pkl\",'rb') as f:\n",
    "        mnist = pickle.load(f)\n",
    "    return mnist[\"training_images\"].tolist(), mnist[\"training_labels\"].tolist(), mnist[\"test_images\"].tolist(), mnist[\"test_labels\"].tolist()\n",
    "init();"
   ]
  },
  {
   "cell_type": "markdown",
   "metadata": {},
   "source": [
    "# Exploratory Data Analysis (EDA)"
   ]
  },
  {
   "cell_type": "markdown",
   "metadata": {},
   "source": [
    "EDA için yüklenen veri setinde bazı değişiklikler yapılmıştır ve uygun .cvs uzantılı dosyalara çevrilmiştir."
   ]
  },
  {
   "cell_type": "code",
   "execution_count": 4,
   "metadata": {},
   "outputs": [],
   "source": [
    "def convert(imgf, labelf, outf, n):\n",
    "    f = open(imgf, \"rb\")\n",
    "    o = open(outf, \"w\")\n",
    "    l = open(labelf, \"rb\")\n",
    "\n",
    "    f.read(16)\n",
    "    l.read(8)\n",
    "    images = []\n",
    "\n",
    "    for i in range(n):\n",
    "        image = [ord(l.read(1))]\n",
    "        for j in range(28*28):\n",
    "            image.append(ord(f.read(1)))\n",
    "        images.append(image)\n",
    "\n",
    "    for image in images:\n",
    "        o.write(\",\".join(str(pix) for pix in image)+\"\\n\")\n",
    "    f.close()\n",
    "    o.close()\n",
    "    l.close()\n",
    "\n",
    "convert(\"train-images.idx3-ubyte\", \"train-labels.idx1-ubyte\",\n",
    "        \"mnist_train.csv\", 60000)\n",
    "convert(\"t10k-images.idx3-ubyte\", \"t10k-labels.idx1-ubyte\",\n",
    "        \"mnist_test.csv\", 10000)\n",
    "df_orig_train = pd.read_csv('mnist_train.csv');\n",
    "df_orig_test = pd.read_csv('mnist_test.csv');\n",
    "\n",
    "df_orig_train.rename(columns={'5':'label'}, inplace=True)\n",
    "df_orig_test.rename(columns={'7':'label'}, inplace=True);\n",
    "df_orig_train.to_csv('mnist_train_final.csv', index=False)\n",
    "df_orig_test.to_csv('mnist_test_final.csv', index=False)"
   ]
  },
  {
   "cell_type": "markdown",
   "metadata": {},
   "source": [
    "Düzenlenen train ve test verileri ayrı iki .csv uzntılı dosyada tutulmuştur."
   ]
  },
  {
   "cell_type": "markdown",
   "metadata": {},
   "source": [
    "### Düzenlenen Veri Setinin Okunması"
   ]
  },
  {
   "cell_type": "code",
   "execution_count": 5,
   "metadata": {},
   "outputs": [],
   "source": [
    "df_orig_train = pd.read_csv('mnist_train_final.csv')\n",
    "df_orig_test = pd.read_csv('mnist_test_final.csv')"
   ]
  },
  {
   "cell_type": "markdown",
   "metadata": {},
   "source": [
    "### Veri seti Özeti"
   ]
  },
  {
   "cell_type": "markdown",
   "metadata": {},
   "source": [
    "Veri setinin genel bilgiler aşağıda verilmiştir."
   ]
  },
  {
   "cell_type": "markdown",
   "metadata": {},
   "source": [
    "Toplam veri setinin yaklaşık %86'sı eğitim içn geri kalan %14'ü ise test için kullanılmıştır."
   ]
  },
  {
   "cell_type": "markdown",
   "metadata": {},
   "source": [
    "#### Eğitim için kullanılması planlanan veri grubunun bilgisi:"
   ]
  },
  {
   "cell_type": "code",
   "execution_count": 6,
   "metadata": {},
   "outputs": [
    {
     "name": "stdout",
     "output_type": "stream",
     "text": [
      "<class 'pandas.core.frame.DataFrame'>\n",
      "RangeIndex: 59999 entries, 0 to 59998\n",
      "Columns: 785 entries, label to 0.617\n",
      "dtypes: int64(785)\n",
      "memory usage: 359.3 MB\n"
     ]
    },
    {
     "data": {
      "text/plain": [
       "None"
      ]
     },
     "metadata": {},
     "output_type": "display_data"
    }
   ],
   "source": [
    "display(df_orig_train.info())\n"
   ]
  },
  {
   "cell_type": "code",
   "execution_count": 7,
   "metadata": {},
   "outputs": [
    {
     "data": {
      "text/html": [
       "<div>\n",
       "<style scoped>\n",
       "    .dataframe tbody tr th:only-of-type {\n",
       "        vertical-align: middle;\n",
       "    }\n",
       "\n",
       "    .dataframe tbody tr th {\n",
       "        vertical-align: top;\n",
       "    }\n",
       "\n",
       "    .dataframe thead th {\n",
       "        text-align: right;\n",
       "    }\n",
       "</style>\n",
       "<table border=\"1\" class=\"dataframe\">\n",
       "  <thead>\n",
       "    <tr style=\"text-align: right;\">\n",
       "      <th></th>\n",
       "      <th>label</th>\n",
       "      <th>0</th>\n",
       "      <th>0.1</th>\n",
       "      <th>0.2</th>\n",
       "      <th>0.3</th>\n",
       "      <th>0.4</th>\n",
       "      <th>0.5</th>\n",
       "      <th>0.6</th>\n",
       "      <th>0.7</th>\n",
       "      <th>0.8</th>\n",
       "      <th>...</th>\n",
       "      <th>0.608</th>\n",
       "      <th>0.609</th>\n",
       "      <th>0.610</th>\n",
       "      <th>0.611</th>\n",
       "      <th>0.612</th>\n",
       "      <th>0.613</th>\n",
       "      <th>0.614</th>\n",
       "      <th>0.615</th>\n",
       "      <th>0.616</th>\n",
       "      <th>0.617</th>\n",
       "    </tr>\n",
       "  </thead>\n",
       "  <tbody>\n",
       "    <tr>\n",
       "      <th>0</th>\n",
       "      <td>0</td>\n",
       "      <td>0</td>\n",
       "      <td>0</td>\n",
       "      <td>0</td>\n",
       "      <td>0</td>\n",
       "      <td>0</td>\n",
       "      <td>0</td>\n",
       "      <td>0</td>\n",
       "      <td>0</td>\n",
       "      <td>0</td>\n",
       "      <td>...</td>\n",
       "      <td>0</td>\n",
       "      <td>0</td>\n",
       "      <td>0</td>\n",
       "      <td>0</td>\n",
       "      <td>0</td>\n",
       "      <td>0</td>\n",
       "      <td>0</td>\n",
       "      <td>0</td>\n",
       "      <td>0</td>\n",
       "      <td>0</td>\n",
       "    </tr>\n",
       "    <tr>\n",
       "      <th>1</th>\n",
       "      <td>4</td>\n",
       "      <td>0</td>\n",
       "      <td>0</td>\n",
       "      <td>0</td>\n",
       "      <td>0</td>\n",
       "      <td>0</td>\n",
       "      <td>0</td>\n",
       "      <td>0</td>\n",
       "      <td>0</td>\n",
       "      <td>0</td>\n",
       "      <td>...</td>\n",
       "      <td>0</td>\n",
       "      <td>0</td>\n",
       "      <td>0</td>\n",
       "      <td>0</td>\n",
       "      <td>0</td>\n",
       "      <td>0</td>\n",
       "      <td>0</td>\n",
       "      <td>0</td>\n",
       "      <td>0</td>\n",
       "      <td>0</td>\n",
       "    </tr>\n",
       "    <tr>\n",
       "      <th>2</th>\n",
       "      <td>1</td>\n",
       "      <td>0</td>\n",
       "      <td>0</td>\n",
       "      <td>0</td>\n",
       "      <td>0</td>\n",
       "      <td>0</td>\n",
       "      <td>0</td>\n",
       "      <td>0</td>\n",
       "      <td>0</td>\n",
       "      <td>0</td>\n",
       "      <td>...</td>\n",
       "      <td>0</td>\n",
       "      <td>0</td>\n",
       "      <td>0</td>\n",
       "      <td>0</td>\n",
       "      <td>0</td>\n",
       "      <td>0</td>\n",
       "      <td>0</td>\n",
       "      <td>0</td>\n",
       "      <td>0</td>\n",
       "      <td>0</td>\n",
       "    </tr>\n",
       "    <tr>\n",
       "      <th>3</th>\n",
       "      <td>9</td>\n",
       "      <td>0</td>\n",
       "      <td>0</td>\n",
       "      <td>0</td>\n",
       "      <td>0</td>\n",
       "      <td>0</td>\n",
       "      <td>0</td>\n",
       "      <td>0</td>\n",
       "      <td>0</td>\n",
       "      <td>0</td>\n",
       "      <td>...</td>\n",
       "      <td>0</td>\n",
       "      <td>0</td>\n",
       "      <td>0</td>\n",
       "      <td>0</td>\n",
       "      <td>0</td>\n",
       "      <td>0</td>\n",
       "      <td>0</td>\n",
       "      <td>0</td>\n",
       "      <td>0</td>\n",
       "      <td>0</td>\n",
       "    </tr>\n",
       "    <tr>\n",
       "      <th>4</th>\n",
       "      <td>2</td>\n",
       "      <td>0</td>\n",
       "      <td>0</td>\n",
       "      <td>0</td>\n",
       "      <td>0</td>\n",
       "      <td>0</td>\n",
       "      <td>0</td>\n",
       "      <td>0</td>\n",
       "      <td>0</td>\n",
       "      <td>0</td>\n",
       "      <td>...</td>\n",
       "      <td>0</td>\n",
       "      <td>0</td>\n",
       "      <td>0</td>\n",
       "      <td>0</td>\n",
       "      <td>0</td>\n",
       "      <td>0</td>\n",
       "      <td>0</td>\n",
       "      <td>0</td>\n",
       "      <td>0</td>\n",
       "      <td>0</td>\n",
       "    </tr>\n",
       "  </tbody>\n",
       "</table>\n",
       "<p>5 rows × 785 columns</p>\n",
       "</div>"
      ],
      "text/plain": [
       "   label  0  0.1  0.2  0.3  0.4  0.5  0.6  0.7  0.8  ...  0.608  0.609  0.610  \\\n",
       "0      0  0    0    0    0    0    0    0    0    0  ...      0      0      0   \n",
       "1      4  0    0    0    0    0    0    0    0    0  ...      0      0      0   \n",
       "2      1  0    0    0    0    0    0    0    0    0  ...      0      0      0   \n",
       "3      9  0    0    0    0    0    0    0    0    0  ...      0      0      0   \n",
       "4      2  0    0    0    0    0    0    0    0    0  ...      0      0      0   \n",
       "\n",
       "   0.611  0.612  0.613  0.614  0.615  0.616  0.617  \n",
       "0      0      0      0      0      0      0      0  \n",
       "1      0      0      0      0      0      0      0  \n",
       "2      0      0      0      0      0      0      0  \n",
       "3      0      0      0      0      0      0      0  \n",
       "4      0      0      0      0      0      0      0  \n",
       "\n",
       "[5 rows x 785 columns]"
      ]
     },
     "metadata": {},
     "output_type": "display_data"
    }
   ],
   "source": [
    "display(df_orig_train.head())"
   ]
  },
  {
   "cell_type": "code",
   "execution_count": 8,
   "metadata": {},
   "outputs": [
    {
     "data": {
      "text/plain": [
       "(59999, 785)"
      ]
     },
     "metadata": {},
     "output_type": "display_data"
    }
   ],
   "source": [
    "display(df_orig_train.shape)"
   ]
  },
  {
   "cell_type": "code",
   "execution_count": 9,
   "metadata": {},
   "outputs": [
    {
     "data": {
      "text/plain": [
       "Series([], dtype: int64)"
      ]
     },
     "metadata": {},
     "output_type": "display_data"
    },
    {
     "data": {
      "text/plain": [
       "'Eğitim verisinde herhangi bir NULL değer bulunmamaktadır'"
      ]
     },
     "metadata": {},
     "output_type": "display_data"
    }
   ],
   "source": [
    "nan = df_orig_train.isnull().sum();\n",
    "display(nan[nan != 0]);\n",
    "display(\"Eğitim verisinde herhangi bir NULL değer bulunmamaktadır\");"
   ]
  },
  {
   "cell_type": "markdown",
   "metadata": {},
   "source": [
    "Yukarıdanda anlaşılacağı üzere train veri grubu (28x28) pikselden oluşan 60000 görüntüden oluşmaktadır."
   ]
  },
  {
   "cell_type": "markdown",
   "metadata": {},
   "source": [
    "Eğitim veri grubundan rastgele seçilmiş 40 verinin görüntüsü ağaşıda verilmiştir"
   ]
  },
  {
   "cell_type": "code",
   "execution_count": 10,
   "metadata": {},
   "outputs": [
    {
     "name": "stdout",
     "output_type": "stream",
     "text": [
      "Rastgele seçilen el yazı görüntüleri: [1 2 3 1 8 5 3 7 6 4 6 5 3 6 2 5 6 6 6 9 9 7 5 3 3 2 0 8 7 7 5 5 2 4 6 2 1\n",
      " 3 2 0]\n"
     ]
    },
    {
     "name": "stderr",
     "output_type": "stream",
     "text": [
      "C:\\Users\\begon\\anaconda3\\lib\\site-packages\\pandas\\core\\frame.py:4308: SettingWithCopyWarning: \n",
      "A value is trying to be set on a copy of a slice from a DataFrame\n",
      "\n",
      "See the caveats in the documentation: https://pandas.pydata.org/pandas-docs/stable/user_guide/indexing.html#returning-a-view-versus-a-copy\n",
      "  return super().drop(\n"
     ]
    },
    {
     "data": {
      "image/png": "[encoded data removed]",
      "text/plain": [
       "<Figure size 432x288 with 40 Axes>"
      ]
     },
     "metadata": {},
     "output_type": "display_data"
    }
   ],
   "source": [
    "def display_digits(N):    \n",
    "    images = np.random.randint(low=0, high=60001, size=N).tolist()\n",
    "    \n",
    "    subset_images = df_orig_train.iloc[images,:]\n",
    "    subset_images.index = range(1, N+1)\n",
    "    print(\"Rastgele seçilen el yazı görüntüleri:\", subset_images['label'].values)\n",
    "    subset_images.drop(columns=['label'], inplace=True)\n",
    "\n",
    "    for i, row in subset_images.iterrows():\n",
    "        plt.subplot((N//8)+1, 8, i)\n",
    "        pixels = row.values.reshape((28,28))\n",
    "        plt.imshow(pixels, cmap='gray')\n",
    "        plt.xticks([])\n",
    "        plt.yticks([])\n",
    "   \n",
    "    plt.show()\n",
    "\n",
    "    return \"\"\n",
    "display_digits(40);"
   ]
  },
  {
   "cell_type": "markdown",
   "metadata": {},
   "source": [
    "Eğitimde bulunan görüntülerin ait oldukları rakamlara göre dağılımı ve istatiksel analizleri aşağıda verilmiştir."
   ]
  },
  {
   "cell_type": "code",
   "execution_count": 11,
   "metadata": {},
   "outputs": [
    {
     "data": {
      "text/html": [
       "<div>\n",
       "<style scoped>\n",
       "    .dataframe tbody tr th:only-of-type {\n",
       "        vertical-align: middle;\n",
       "    }\n",
       "\n",
       "    .dataframe tbody tr th {\n",
       "        vertical-align: top;\n",
       "    }\n",
       "\n",
       "    .dataframe thead th {\n",
       "        text-align: right;\n",
       "    }\n",
       "</style>\n",
       "<table border=\"1\" class=\"dataframe\">\n",
       "  <thead>\n",
       "    <tr style=\"text-align: right;\">\n",
       "      <th></th>\n",
       "      <th>0</th>\n",
       "      <th>0.1</th>\n",
       "      <th>0.2</th>\n",
       "      <th>0.3</th>\n",
       "      <th>0.4</th>\n",
       "      <th>0.5</th>\n",
       "      <th>0.6</th>\n",
       "      <th>0.7</th>\n",
       "      <th>0.8</th>\n",
       "      <th>0.9</th>\n",
       "      <th>...</th>\n",
       "      <th>0.608</th>\n",
       "      <th>0.609</th>\n",
       "      <th>0.610</th>\n",
       "      <th>0.611</th>\n",
       "      <th>0.612</th>\n",
       "      <th>0.613</th>\n",
       "      <th>0.614</th>\n",
       "      <th>0.615</th>\n",
       "      <th>0.616</th>\n",
       "      <th>0.617</th>\n",
       "    </tr>\n",
       "  </thead>\n",
       "  <tbody>\n",
       "    <tr>\n",
       "      <th>count</th>\n",
       "      <td>59999.0</td>\n",
       "      <td>59999.0</td>\n",
       "      <td>59999.0</td>\n",
       "      <td>59999.0</td>\n",
       "      <td>59999.0</td>\n",
       "      <td>59999.0</td>\n",
       "      <td>59999.0</td>\n",
       "      <td>59999.0</td>\n",
       "      <td>59999.0</td>\n",
       "      <td>59999.0</td>\n",
       "      <td>...</td>\n",
       "      <td>59999.000000</td>\n",
       "      <td>59999.000000</td>\n",
       "      <td>59999.000000</td>\n",
       "      <td>59999.000000</td>\n",
       "      <td>59999.000000</td>\n",
       "      <td>59999.000000</td>\n",
       "      <td>59999.0</td>\n",
       "      <td>59999.0</td>\n",
       "      <td>59999.0</td>\n",
       "      <td>59999.0</td>\n",
       "    </tr>\n",
       "    <tr>\n",
       "      <th>mean</th>\n",
       "      <td>0.0</td>\n",
       "      <td>0.0</td>\n",
       "      <td>0.0</td>\n",
       "      <td>0.0</td>\n",
       "      <td>0.0</td>\n",
       "      <td>0.0</td>\n",
       "      <td>0.0</td>\n",
       "      <td>0.0</td>\n",
       "      <td>0.0</td>\n",
       "      <td>0.0</td>\n",
       "      <td>...</td>\n",
       "      <td>0.200437</td>\n",
       "      <td>0.088868</td>\n",
       "      <td>0.045634</td>\n",
       "      <td>0.019284</td>\n",
       "      <td>0.015117</td>\n",
       "      <td>0.002000</td>\n",
       "      <td>0.0</td>\n",
       "      <td>0.0</td>\n",
       "      <td>0.0</td>\n",
       "      <td>0.0</td>\n",
       "    </tr>\n",
       "    <tr>\n",
       "      <th>std</th>\n",
       "      <td>0.0</td>\n",
       "      <td>0.0</td>\n",
       "      <td>0.0</td>\n",
       "      <td>0.0</td>\n",
       "      <td>0.0</td>\n",
       "      <td>0.0</td>\n",
       "      <td>0.0</td>\n",
       "      <td>0.0</td>\n",
       "      <td>0.0</td>\n",
       "      <td>0.0</td>\n",
       "      <td>...</td>\n",
       "      <td>6.042522</td>\n",
       "      <td>3.956222</td>\n",
       "      <td>2.839868</td>\n",
       "      <td>1.686784</td>\n",
       "      <td>1.678297</td>\n",
       "      <td>0.346603</td>\n",
       "      <td>0.0</td>\n",
       "      <td>0.0</td>\n",
       "      <td>0.0</td>\n",
       "      <td>0.0</td>\n",
       "    </tr>\n",
       "    <tr>\n",
       "      <th>min</th>\n",
       "      <td>0.0</td>\n",
       "      <td>0.0</td>\n",
       "      <td>0.0</td>\n",
       "      <td>0.0</td>\n",
       "      <td>0.0</td>\n",
       "      <td>0.0</td>\n",
       "      <td>0.0</td>\n",
       "      <td>0.0</td>\n",
       "      <td>0.0</td>\n",
       "      <td>0.0</td>\n",
       "      <td>...</td>\n",
       "      <td>0.000000</td>\n",
       "      <td>0.000000</td>\n",
       "      <td>0.000000</td>\n",
       "      <td>0.000000</td>\n",
       "      <td>0.000000</td>\n",
       "      <td>0.000000</td>\n",
       "      <td>0.0</td>\n",
       "      <td>0.0</td>\n",
       "      <td>0.0</td>\n",
       "      <td>0.0</td>\n",
       "    </tr>\n",
       "    <tr>\n",
       "      <th>25%</th>\n",
       "      <td>0.0</td>\n",
       "      <td>0.0</td>\n",
       "      <td>0.0</td>\n",
       "      <td>0.0</td>\n",
       "      <td>0.0</td>\n",
       "      <td>0.0</td>\n",
       "      <td>0.0</td>\n",
       "      <td>0.0</td>\n",
       "      <td>0.0</td>\n",
       "      <td>0.0</td>\n",
       "      <td>...</td>\n",
       "      <td>0.000000</td>\n",
       "      <td>0.000000</td>\n",
       "      <td>0.000000</td>\n",
       "      <td>0.000000</td>\n",
       "      <td>0.000000</td>\n",
       "      <td>0.000000</td>\n",
       "      <td>0.0</td>\n",
       "      <td>0.0</td>\n",
       "      <td>0.0</td>\n",
       "      <td>0.0</td>\n",
       "    </tr>\n",
       "    <tr>\n",
       "      <th>50%</th>\n",
       "      <td>0.0</td>\n",
       "      <td>0.0</td>\n",
       "      <td>0.0</td>\n",
       "      <td>0.0</td>\n",
       "      <td>0.0</td>\n",
       "      <td>0.0</td>\n",
       "      <td>0.0</td>\n",
       "      <td>0.0</td>\n",
       "      <td>0.0</td>\n",
       "      <td>0.0</td>\n",
       "      <td>...</td>\n",
       "      <td>0.000000</td>\n",
       "      <td>0.000000</td>\n",
       "      <td>0.000000</td>\n",
       "      <td>0.000000</td>\n",
       "      <td>0.000000</td>\n",
       "      <td>0.000000</td>\n",
       "      <td>0.0</td>\n",
       "      <td>0.0</td>\n",
       "      <td>0.0</td>\n",
       "      <td>0.0</td>\n",
       "    </tr>\n",
       "    <tr>\n",
       "      <th>75%</th>\n",
       "      <td>0.0</td>\n",
       "      <td>0.0</td>\n",
       "      <td>0.0</td>\n",
       "      <td>0.0</td>\n",
       "      <td>0.0</td>\n",
       "      <td>0.0</td>\n",
       "      <td>0.0</td>\n",
       "      <td>0.0</td>\n",
       "      <td>0.0</td>\n",
       "      <td>0.0</td>\n",
       "      <td>...</td>\n",
       "      <td>0.000000</td>\n",
       "      <td>0.000000</td>\n",
       "      <td>0.000000</td>\n",
       "      <td>0.000000</td>\n",
       "      <td>0.000000</td>\n",
       "      <td>0.000000</td>\n",
       "      <td>0.0</td>\n",
       "      <td>0.0</td>\n",
       "      <td>0.0</td>\n",
       "      <td>0.0</td>\n",
       "    </tr>\n",
       "    <tr>\n",
       "      <th>max</th>\n",
       "      <td>0.0</td>\n",
       "      <td>0.0</td>\n",
       "      <td>0.0</td>\n",
       "      <td>0.0</td>\n",
       "      <td>0.0</td>\n",
       "      <td>0.0</td>\n",
       "      <td>0.0</td>\n",
       "      <td>0.0</td>\n",
       "      <td>0.0</td>\n",
       "      <td>0.0</td>\n",
       "      <td>...</td>\n",
       "      <td>254.000000</td>\n",
       "      <td>254.000000</td>\n",
       "      <td>253.000000</td>\n",
       "      <td>253.000000</td>\n",
       "      <td>254.000000</td>\n",
       "      <td>62.000000</td>\n",
       "      <td>0.0</td>\n",
       "      <td>0.0</td>\n",
       "      <td>0.0</td>\n",
       "      <td>0.0</td>\n",
       "    </tr>\n",
       "  </tbody>\n",
       "</table>\n",
       "<p>8 rows × 784 columns</p>\n",
       "</div>"
      ],
      "text/plain": [
       "             0      0.1      0.2      0.3      0.4      0.5      0.6      0.7  \\\n",
       "count  59999.0  59999.0  59999.0  59999.0  59999.0  59999.0  59999.0  59999.0   \n",
       "mean       0.0      0.0      0.0      0.0      0.0      0.0      0.0      0.0   \n",
       "std        0.0      0.0      0.0      0.0      0.0      0.0      0.0      0.0   \n",
       "min        0.0      0.0      0.0      0.0      0.0      0.0      0.0      0.0   \n",
       "25%        0.0      0.0      0.0      0.0      0.0      0.0      0.0      0.0   \n",
       "50%        0.0      0.0      0.0      0.0      0.0      0.0      0.0      0.0   \n",
       "75%        0.0      0.0      0.0      0.0      0.0      0.0      0.0      0.0   \n",
       "max        0.0      0.0      0.0      0.0      0.0      0.0      0.0      0.0   \n",
       "\n",
       "           0.8      0.9  ...         0.608         0.609         0.610  \\\n",
       "count  59999.0  59999.0  ...  59999.000000  59999.000000  59999.000000   \n",
       "mean       0.0      0.0  ...      0.200437      0.088868      0.045634   \n",
       "std        0.0      0.0  ...      6.042522      3.956222      2.839868   \n",
       "min        0.0      0.0  ...      0.000000      0.000000      0.000000   \n",
       "25%        0.0      0.0  ...      0.000000      0.000000      0.000000   \n",
       "50%        0.0      0.0  ...      0.000000      0.000000      0.000000   \n",
       "75%        0.0      0.0  ...      0.000000      0.000000      0.000000   \n",
       "max        0.0      0.0  ...    254.000000    254.000000    253.000000   \n",
       "\n",
       "              0.611         0.612         0.613    0.614    0.615    0.616  \\\n",
       "count  59999.000000  59999.000000  59999.000000  59999.0  59999.0  59999.0   \n",
       "mean       0.019284      0.015117      0.002000      0.0      0.0      0.0   \n",
       "std        1.686784      1.678297      0.346603      0.0      0.0      0.0   \n",
       "min        0.000000      0.000000      0.000000      0.0      0.0      0.0   \n",
       "25%        0.000000      0.000000      0.000000      0.0      0.0      0.0   \n",
       "50%        0.000000      0.000000      0.000000      0.0      0.0      0.0   \n",
       "75%        0.000000      0.000000      0.000000      0.0      0.0      0.0   \n",
       "max      253.000000    254.000000     62.000000      0.0      0.0      0.0   \n",
       "\n",
       "         0.617  \n",
       "count  59999.0  \n",
       "mean       0.0  \n",
       "std        0.0  \n",
       "min        0.0  \n",
       "25%        0.0  \n",
       "50%        0.0  \n",
       "75%        0.0  \n",
       "max        0.0  \n",
       "\n",
       "[8 rows x 784 columns]"
      ]
     },
     "metadata": {},
     "output_type": "display_data"
    },
    {
     "data": {
      "image/png": "[encoded data removed]",
      "text/plain": [
       "<Figure size 432x288 with 1 Axes>"
      ]
     },
     "metadata": {
      "needs_background": "light"
     },
     "output_type": "display_data"
    }
   ],
   "source": [
    "subset_pixels = df_orig_train.iloc[:, 1:];\n",
    "display(subset_pixels.describe());\n",
    "_ = df_orig_train['label'].value_counts().plot(kind='bar')\n",
    "plt.show();"
   ]
  },
  {
   "cell_type": "markdown",
   "metadata": {},
   "source": [
    "#### Test için kullanılması planlanan veri grubunun bilgisi:"
   ]
  },
  {
   "cell_type": "code",
   "execution_count": 12,
   "metadata": {},
   "outputs": [
    {
     "name": "stdout",
     "output_type": "stream",
     "text": [
      "<class 'pandas.core.frame.DataFrame'>\n",
      "RangeIndex: 9999 entries, 0 to 9998\n",
      "Columns: 785 entries, label to 0.667\n",
      "dtypes: int64(785)\n",
      "memory usage: 59.9 MB\n"
     ]
    },
    {
     "data": {
      "text/plain": [
       "None"
      ]
     },
     "metadata": {},
     "output_type": "display_data"
    }
   ],
   "source": [
    "display(df_orig_test.info())"
   ]
  },
  {
   "cell_type": "code",
   "execution_count": 13,
   "metadata": {},
   "outputs": [
    {
     "data": {
      "text/html": [
       "<div>\n",
       "<style scoped>\n",
       "    .dataframe tbody tr th:only-of-type {\n",
       "        vertical-align: middle;\n",
       "    }\n",
       "\n",
       "    .dataframe tbody tr th {\n",
       "        vertical-align: top;\n",
       "    }\n",
       "\n",
       "    .dataframe thead th {\n",
       "        text-align: right;\n",
       "    }\n",
       "</style>\n",
       "<table border=\"1\" class=\"dataframe\">\n",
       "  <thead>\n",
       "    <tr style=\"text-align: right;\">\n",
       "      <th></th>\n",
       "      <th>label</th>\n",
       "      <th>0</th>\n",
       "      <th>0.1</th>\n",
       "      <th>0.2</th>\n",
       "      <th>0.3</th>\n",
       "      <th>0.4</th>\n",
       "      <th>0.5</th>\n",
       "      <th>0.6</th>\n",
       "      <th>0.7</th>\n",
       "      <th>0.8</th>\n",
       "      <th>...</th>\n",
       "      <th>0.658</th>\n",
       "      <th>0.659</th>\n",
       "      <th>0.660</th>\n",
       "      <th>0.661</th>\n",
       "      <th>0.662</th>\n",
       "      <th>0.663</th>\n",
       "      <th>0.664</th>\n",
       "      <th>0.665</th>\n",
       "      <th>0.666</th>\n",
       "      <th>0.667</th>\n",
       "    </tr>\n",
       "  </thead>\n",
       "  <tbody>\n",
       "    <tr>\n",
       "      <th>0</th>\n",
       "      <td>2</td>\n",
       "      <td>0</td>\n",
       "      <td>0</td>\n",
       "      <td>0</td>\n",
       "      <td>0</td>\n",
       "      <td>0</td>\n",
       "      <td>0</td>\n",
       "      <td>0</td>\n",
       "      <td>0</td>\n",
       "      <td>0</td>\n",
       "      <td>...</td>\n",
       "      <td>0</td>\n",
       "      <td>0</td>\n",
       "      <td>0</td>\n",
       "      <td>0</td>\n",
       "      <td>0</td>\n",
       "      <td>0</td>\n",
       "      <td>0</td>\n",
       "      <td>0</td>\n",
       "      <td>0</td>\n",
       "      <td>0</td>\n",
       "    </tr>\n",
       "    <tr>\n",
       "      <th>1</th>\n",
       "      <td>1</td>\n",
       "      <td>0</td>\n",
       "      <td>0</td>\n",
       "      <td>0</td>\n",
       "      <td>0</td>\n",
       "      <td>0</td>\n",
       "      <td>0</td>\n",
       "      <td>0</td>\n",
       "      <td>0</td>\n",
       "      <td>0</td>\n",
       "      <td>...</td>\n",
       "      <td>0</td>\n",
       "      <td>0</td>\n",
       "      <td>0</td>\n",
       "      <td>0</td>\n",
       "      <td>0</td>\n",
       "      <td>0</td>\n",
       "      <td>0</td>\n",
       "      <td>0</td>\n",
       "      <td>0</td>\n",
       "      <td>0</td>\n",
       "    </tr>\n",
       "    <tr>\n",
       "      <th>2</th>\n",
       "      <td>0</td>\n",
       "      <td>0</td>\n",
       "      <td>0</td>\n",
       "      <td>0</td>\n",
       "      <td>0</td>\n",
       "      <td>0</td>\n",
       "      <td>0</td>\n",
       "      <td>0</td>\n",
       "      <td>0</td>\n",
       "      <td>0</td>\n",
       "      <td>...</td>\n",
       "      <td>0</td>\n",
       "      <td>0</td>\n",
       "      <td>0</td>\n",
       "      <td>0</td>\n",
       "      <td>0</td>\n",
       "      <td>0</td>\n",
       "      <td>0</td>\n",
       "      <td>0</td>\n",
       "      <td>0</td>\n",
       "      <td>0</td>\n",
       "    </tr>\n",
       "    <tr>\n",
       "      <th>3</th>\n",
       "      <td>4</td>\n",
       "      <td>0</td>\n",
       "      <td>0</td>\n",
       "      <td>0</td>\n",
       "      <td>0</td>\n",
       "      <td>0</td>\n",
       "      <td>0</td>\n",
       "      <td>0</td>\n",
       "      <td>0</td>\n",
       "      <td>0</td>\n",
       "      <td>...</td>\n",
       "      <td>0</td>\n",
       "      <td>0</td>\n",
       "      <td>0</td>\n",
       "      <td>0</td>\n",
       "      <td>0</td>\n",
       "      <td>0</td>\n",
       "      <td>0</td>\n",
       "      <td>0</td>\n",
       "      <td>0</td>\n",
       "      <td>0</td>\n",
       "    </tr>\n",
       "    <tr>\n",
       "      <th>4</th>\n",
       "      <td>1</td>\n",
       "      <td>0</td>\n",
       "      <td>0</td>\n",
       "      <td>0</td>\n",
       "      <td>0</td>\n",
       "      <td>0</td>\n",
       "      <td>0</td>\n",
       "      <td>0</td>\n",
       "      <td>0</td>\n",
       "      <td>0</td>\n",
       "      <td>...</td>\n",
       "      <td>0</td>\n",
       "      <td>0</td>\n",
       "      <td>0</td>\n",
       "      <td>0</td>\n",
       "      <td>0</td>\n",
       "      <td>0</td>\n",
       "      <td>0</td>\n",
       "      <td>0</td>\n",
       "      <td>0</td>\n",
       "      <td>0</td>\n",
       "    </tr>\n",
       "  </tbody>\n",
       "</table>\n",
       "<p>5 rows × 785 columns</p>\n",
       "</div>"
      ],
      "text/plain": [
       "   label  0  0.1  0.2  0.3  0.4  0.5  0.6  0.7  0.8  ...  0.658  0.659  0.660  \\\n",
       "0      2  0    0    0    0    0    0    0    0    0  ...      0      0      0   \n",
       "1      1  0    0    0    0    0    0    0    0    0  ...      0      0      0   \n",
       "2      0  0    0    0    0    0    0    0    0    0  ...      0      0      0   \n",
       "3      4  0    0    0    0    0    0    0    0    0  ...      0      0      0   \n",
       "4      1  0    0    0    0    0    0    0    0    0  ...      0      0      0   \n",
       "\n",
       "   0.661  0.662  0.663  0.664  0.665  0.666  0.667  \n",
       "0      0      0      0      0      0      0      0  \n",
       "1      0      0      0      0      0      0      0  \n",
       "2      0      0      0      0      0      0      0  \n",
       "3      0      0      0      0      0      0      0  \n",
       "4      0      0      0      0      0      0      0  \n",
       "\n",
       "[5 rows x 785 columns]"
      ]
     },
     "metadata": {},
     "output_type": "display_data"
    }
   ],
   "source": [
    "display(df_orig_test.head());"
   ]
  },
  {
   "cell_type": "code",
   "execution_count": 14,
   "metadata": {},
   "outputs": [
    {
     "data": {
      "text/plain": [
       "(9999, 785)"
      ]
     },
     "metadata": {},
     "output_type": "display_data"
    }
   ],
   "source": [
    "display(df_orig_test.shape)"
   ]
  },
  {
   "cell_type": "code",
   "execution_count": 15,
   "metadata": {},
   "outputs": [
    {
     "data": {
      "text/plain": [
       "Series([], dtype: int64)"
      ]
     },
     "metadata": {},
     "output_type": "display_data"
    },
    {
     "data": {
      "text/plain": [
       "'Test verisinde herhangi bir NULL değer bulunmamaktadır'"
      ]
     },
     "metadata": {},
     "output_type": "display_data"
    }
   ],
   "source": [
    "nan = df_orig_test.isnull().sum();\n",
    "display(nan[nan != 0]);\n",
    "display(\"Test verisinde herhangi bir NULL değer bulunmamaktadır\");"
   ]
  },
  {
   "cell_type": "markdown",
   "metadata": {},
   "source": [
    "Yukarıdanda anlaşılacağı üzere train veri grubu (28x28) pikselden oluşan 10000 görüntüden oluşmaktadır."
   ]
  },
  {
   "cell_type": "markdown",
   "metadata": {},
   "source": [
    "Test veri grubundan rastgele seçilmiş 40 verinin görüntüsü ağaşıda verilmiştir"
   ]
  },
  {
   "cell_type": "code",
   "execution_count": 16,
   "metadata": {},
   "outputs": [
    {
     "name": "stdout",
     "output_type": "stream",
     "text": [
      "Rastgele seçilen el yazı görüntüleri: [9 9 1 8 8 4 6 9 9 8 2 4 8 4 6 1 5 2 2 5 4 9 8 3 3 1 3 5 2 1 6 7 4 5 9 2 5\n",
      " 3 6 5]\n"
     ]
    },
    {
     "name": "stderr",
     "output_type": "stream",
     "text": [
      "C:\\Users\\begon\\anaconda3\\lib\\site-packages\\pandas\\core\\frame.py:4308: SettingWithCopyWarning: \n",
      "A value is trying to be set on a copy of a slice from a DataFrame\n",
      "\n",
      "See the caveats in the documentation: https://pandas.pydata.org/pandas-docs/stable/user_guide/indexing.html#returning-a-view-versus-a-copy\n",
      "  return super().drop(\n"
     ]
    },
    {
     "data": {
      "image/png": "[encoded data removed]",
      "text/plain": [
       "<Figure size 432x288 with 40 Axes>"
      ]
     },
     "metadata": {},
     "output_type": "display_data"
    }
   ],
   "source": [
    "def display_digits(N):    \n",
    "  \n",
    "    images = np.random.randint(low=0, high=10001, size=N).tolist()\n",
    "    \n",
    "    subset_images = df_orig_test.iloc[images,:]\n",
    "    subset_images.index = range(1, N+1)\n",
    "    print(\"Rastgele seçilen el yazı görüntüleri:\", subset_images['label'].values)\n",
    "    subset_images.drop(columns=['label'], inplace=True)\n",
    "\n",
    "    for i, row in subset_images.iterrows():\n",
    "        plt.subplot((N//8)+1, 8, i)\n",
    "        pixels = row.values.reshape((28,28))\n",
    "        plt.imshow(pixels, cmap='gray')\n",
    "        plt.xticks([])\n",
    "        plt.yticks([])\n",
    "    plt.show()\n",
    "\n",
    "    return \"\"\n",
    "\n",
    "display_digits(40);"
   ]
  },
  {
   "cell_type": "markdown",
   "metadata": {},
   "source": [
    "Test verisinde bulunan görüntülerin ait oldukları rakamlara göre dağılımı ve istatiksel analizleri aşağıda verilmiştir."
   ]
  },
  {
   "cell_type": "code",
   "execution_count": 17,
   "metadata": {},
   "outputs": [
    {
     "data": {
      "text/html": [
       "<div>\n",
       "<style scoped>\n",
       "    .dataframe tbody tr th:only-of-type {\n",
       "        vertical-align: middle;\n",
       "    }\n",
       "\n",
       "    .dataframe tbody tr th {\n",
       "        vertical-align: top;\n",
       "    }\n",
       "\n",
       "    .dataframe thead th {\n",
       "        text-align: right;\n",
       "    }\n",
       "</style>\n",
       "<table border=\"1\" class=\"dataframe\">\n",
       "  <thead>\n",
       "    <tr style=\"text-align: right;\">\n",
       "      <th></th>\n",
       "      <th>0</th>\n",
       "      <th>0.1</th>\n",
       "      <th>0.2</th>\n",
       "      <th>0.3</th>\n",
       "      <th>0.4</th>\n",
       "      <th>0.5</th>\n",
       "      <th>0.6</th>\n",
       "      <th>0.7</th>\n",
       "      <th>0.8</th>\n",
       "      <th>0.9</th>\n",
       "      <th>...</th>\n",
       "      <th>0.658</th>\n",
       "      <th>0.659</th>\n",
       "      <th>0.660</th>\n",
       "      <th>0.661</th>\n",
       "      <th>0.662</th>\n",
       "      <th>0.663</th>\n",
       "      <th>0.664</th>\n",
       "      <th>0.665</th>\n",
       "      <th>0.666</th>\n",
       "      <th>0.667</th>\n",
       "    </tr>\n",
       "  </thead>\n",
       "  <tbody>\n",
       "    <tr>\n",
       "      <th>count</th>\n",
       "      <td>9999.0</td>\n",
       "      <td>9999.0</td>\n",
       "      <td>9999.0</td>\n",
       "      <td>9999.0</td>\n",
       "      <td>9999.0</td>\n",
       "      <td>9999.0</td>\n",
       "      <td>9999.0</td>\n",
       "      <td>9999.0</td>\n",
       "      <td>9999.0</td>\n",
       "      <td>9999.0</td>\n",
       "      <td>...</td>\n",
       "      <td>9999.000000</td>\n",
       "      <td>9999.000000</td>\n",
       "      <td>9999.000000</td>\n",
       "      <td>9999.000000</td>\n",
       "      <td>9999.0</td>\n",
       "      <td>9999.0</td>\n",
       "      <td>9999.0</td>\n",
       "      <td>9999.0</td>\n",
       "      <td>9999.0</td>\n",
       "      <td>9999.0</td>\n",
       "    </tr>\n",
       "    <tr>\n",
       "      <th>mean</th>\n",
       "      <td>0.0</td>\n",
       "      <td>0.0</td>\n",
       "      <td>0.0</td>\n",
       "      <td>0.0</td>\n",
       "      <td>0.0</td>\n",
       "      <td>0.0</td>\n",
       "      <td>0.0</td>\n",
       "      <td>0.0</td>\n",
       "      <td>0.0</td>\n",
       "      <td>0.0</td>\n",
       "      <td>...</td>\n",
       "      <td>0.179318</td>\n",
       "      <td>0.163616</td>\n",
       "      <td>0.052605</td>\n",
       "      <td>0.000600</td>\n",
       "      <td>0.0</td>\n",
       "      <td>0.0</td>\n",
       "      <td>0.0</td>\n",
       "      <td>0.0</td>\n",
       "      <td>0.0</td>\n",
       "      <td>0.0</td>\n",
       "    </tr>\n",
       "    <tr>\n",
       "      <th>std</th>\n",
       "      <td>0.0</td>\n",
       "      <td>0.0</td>\n",
       "      <td>0.0</td>\n",
       "      <td>0.0</td>\n",
       "      <td>0.0</td>\n",
       "      <td>0.0</td>\n",
       "      <td>0.0</td>\n",
       "      <td>0.0</td>\n",
       "      <td>0.0</td>\n",
       "      <td>0.0</td>\n",
       "      <td>...</td>\n",
       "      <td>5.674433</td>\n",
       "      <td>5.736359</td>\n",
       "      <td>2.420125</td>\n",
       "      <td>0.060003</td>\n",
       "      <td>0.0</td>\n",
       "      <td>0.0</td>\n",
       "      <td>0.0</td>\n",
       "      <td>0.0</td>\n",
       "      <td>0.0</td>\n",
       "      <td>0.0</td>\n",
       "    </tr>\n",
       "    <tr>\n",
       "      <th>min</th>\n",
       "      <td>0.0</td>\n",
       "      <td>0.0</td>\n",
       "      <td>0.0</td>\n",
       "      <td>0.0</td>\n",
       "      <td>0.0</td>\n",
       "      <td>0.0</td>\n",
       "      <td>0.0</td>\n",
       "      <td>0.0</td>\n",
       "      <td>0.0</td>\n",
       "      <td>0.0</td>\n",
       "      <td>...</td>\n",
       "      <td>0.000000</td>\n",
       "      <td>0.000000</td>\n",
       "      <td>0.000000</td>\n",
       "      <td>0.000000</td>\n",
       "      <td>0.0</td>\n",
       "      <td>0.0</td>\n",
       "      <td>0.0</td>\n",
       "      <td>0.0</td>\n",
       "      <td>0.0</td>\n",
       "      <td>0.0</td>\n",
       "    </tr>\n",
       "    <tr>\n",
       "      <th>25%</th>\n",
       "      <td>0.0</td>\n",
       "      <td>0.0</td>\n",
       "      <td>0.0</td>\n",
       "      <td>0.0</td>\n",
       "      <td>0.0</td>\n",
       "      <td>0.0</td>\n",
       "      <td>0.0</td>\n",
       "      <td>0.0</td>\n",
       "      <td>0.0</td>\n",
       "      <td>0.0</td>\n",
       "      <td>...</td>\n",
       "      <td>0.000000</td>\n",
       "      <td>0.000000</td>\n",
       "      <td>0.000000</td>\n",
       "      <td>0.000000</td>\n",
       "      <td>0.0</td>\n",
       "      <td>0.0</td>\n",
       "      <td>0.0</td>\n",
       "      <td>0.0</td>\n",
       "      <td>0.0</td>\n",
       "      <td>0.0</td>\n",
       "    </tr>\n",
       "    <tr>\n",
       "      <th>50%</th>\n",
       "      <td>0.0</td>\n",
       "      <td>0.0</td>\n",
       "      <td>0.0</td>\n",
       "      <td>0.0</td>\n",
       "      <td>0.0</td>\n",
       "      <td>0.0</td>\n",
       "      <td>0.0</td>\n",
       "      <td>0.0</td>\n",
       "      <td>0.0</td>\n",
       "      <td>0.0</td>\n",
       "      <td>...</td>\n",
       "      <td>0.000000</td>\n",
       "      <td>0.000000</td>\n",
       "      <td>0.000000</td>\n",
       "      <td>0.000000</td>\n",
       "      <td>0.0</td>\n",
       "      <td>0.0</td>\n",
       "      <td>0.0</td>\n",
       "      <td>0.0</td>\n",
       "      <td>0.0</td>\n",
       "      <td>0.0</td>\n",
       "    </tr>\n",
       "    <tr>\n",
       "      <th>75%</th>\n",
       "      <td>0.0</td>\n",
       "      <td>0.0</td>\n",
       "      <td>0.0</td>\n",
       "      <td>0.0</td>\n",
       "      <td>0.0</td>\n",
       "      <td>0.0</td>\n",
       "      <td>0.0</td>\n",
       "      <td>0.0</td>\n",
       "      <td>0.0</td>\n",
       "      <td>0.0</td>\n",
       "      <td>...</td>\n",
       "      <td>0.000000</td>\n",
       "      <td>0.000000</td>\n",
       "      <td>0.000000</td>\n",
       "      <td>0.000000</td>\n",
       "      <td>0.0</td>\n",
       "      <td>0.0</td>\n",
       "      <td>0.0</td>\n",
       "      <td>0.0</td>\n",
       "      <td>0.0</td>\n",
       "      <td>0.0</td>\n",
       "    </tr>\n",
       "    <tr>\n",
       "      <th>max</th>\n",
       "      <td>0.0</td>\n",
       "      <td>0.0</td>\n",
       "      <td>0.0</td>\n",
       "      <td>0.0</td>\n",
       "      <td>0.0</td>\n",
       "      <td>0.0</td>\n",
       "      <td>0.0</td>\n",
       "      <td>0.0</td>\n",
       "      <td>0.0</td>\n",
       "      <td>0.0</td>\n",
       "      <td>...</td>\n",
       "      <td>253.000000</td>\n",
       "      <td>253.000000</td>\n",
       "      <td>156.000000</td>\n",
       "      <td>6.000000</td>\n",
       "      <td>0.0</td>\n",
       "      <td>0.0</td>\n",
       "      <td>0.0</td>\n",
       "      <td>0.0</td>\n",
       "      <td>0.0</td>\n",
       "      <td>0.0</td>\n",
       "    </tr>\n",
       "  </tbody>\n",
       "</table>\n",
       "<p>8 rows × 784 columns</p>\n",
       "</div>"
      ],
      "text/plain": [
       "            0     0.1     0.2     0.3     0.4     0.5     0.6     0.7     0.8  \\\n",
       "count  9999.0  9999.0  9999.0  9999.0  9999.0  9999.0  9999.0  9999.0  9999.0   \n",
       "mean      0.0     0.0     0.0     0.0     0.0     0.0     0.0     0.0     0.0   \n",
       "std       0.0     0.0     0.0     0.0     0.0     0.0     0.0     0.0     0.0   \n",
       "min       0.0     0.0     0.0     0.0     0.0     0.0     0.0     0.0     0.0   \n",
       "25%       0.0     0.0     0.0     0.0     0.0     0.0     0.0     0.0     0.0   \n",
       "50%       0.0     0.0     0.0     0.0     0.0     0.0     0.0     0.0     0.0   \n",
       "75%       0.0     0.0     0.0     0.0     0.0     0.0     0.0     0.0     0.0   \n",
       "max       0.0     0.0     0.0     0.0     0.0     0.0     0.0     0.0     0.0   \n",
       "\n",
       "          0.9  ...        0.658        0.659        0.660        0.661  \\\n",
       "count  9999.0  ...  9999.000000  9999.000000  9999.000000  9999.000000   \n",
       "mean      0.0  ...     0.179318     0.163616     0.052605     0.000600   \n",
       "std       0.0  ...     5.674433     5.736359     2.420125     0.060003   \n",
       "min       0.0  ...     0.000000     0.000000     0.000000     0.000000   \n",
       "25%       0.0  ...     0.000000     0.000000     0.000000     0.000000   \n",
       "50%       0.0  ...     0.000000     0.000000     0.000000     0.000000   \n",
       "75%       0.0  ...     0.000000     0.000000     0.000000     0.000000   \n",
       "max       0.0  ...   253.000000   253.000000   156.000000     6.000000   \n",
       "\n",
       "        0.662   0.663   0.664   0.665   0.666   0.667  \n",
       "count  9999.0  9999.0  9999.0  9999.0  9999.0  9999.0  \n",
       "mean      0.0     0.0     0.0     0.0     0.0     0.0  \n",
       "std       0.0     0.0     0.0     0.0     0.0     0.0  \n",
       "min       0.0     0.0     0.0     0.0     0.0     0.0  \n",
       "25%       0.0     0.0     0.0     0.0     0.0     0.0  \n",
       "50%       0.0     0.0     0.0     0.0     0.0     0.0  \n",
       "75%       0.0     0.0     0.0     0.0     0.0     0.0  \n",
       "max       0.0     0.0     0.0     0.0     0.0     0.0  \n",
       "\n",
       "[8 rows x 784 columns]"
      ]
     },
     "metadata": {},
     "output_type": "display_data"
    },
    {
     "data": {
      "image/png": "[encoded data removed]",
      "text/plain": [
       "<Figure size 432x288 with 1 Axes>"
      ]
     },
     "metadata": {
      "needs_background": "light"
     },
     "output_type": "display_data"
    }
   ],
   "source": [
    "subset_pixels = df_orig_test.iloc[:, 1:];\n",
    "display(subset_pixels.describe());\n",
    "_ = df_orig_test['label'].value_counts().plot(kind='bar')\n",
    "plt.show()"
   ]
  },
  {
   "cell_type": "markdown",
   "metadata": {},
   "source": [
    "# Veri ön işleme"
   ]
  },
  {
   "cell_type": "markdown",
   "metadata": {},
   "source": [
    "Test ve Eğitim veri gruplarındaki, 28x28 pikselden oluşan görüntülerin piksel sütunları ile görüntülerin ait olduğu rakamı belirten etiket sütünu gruplandırılmıştır."
   ]
  },
  {
   "cell_type": "code",
   "execution_count": 18,
   "metadata": {},
   "outputs": [
    {
     "name": "stdout",
     "output_type": "stream",
     "text": [
      "Train veri grubundaki görüntü pikselleri ile hedef değerlerinin ayrılması:\n",
      "X_train:\n",
      "(60000, 784)\n",
      "y_train:\n",
      "(60000,)\n",
      "Test veri grubundaki görüntü pikselleri ile hedef değerlerinin ayrılması:\n",
      "X_test:\n",
      "(10000, 784)\n",
      "y_test:\n",
      "(10000,)\n"
     ]
    }
   ],
   "source": [
    "def load():\n",
    "    with open(\"mnist.pkl\",'rb') as f:\n",
    "        mnist = pickle.load(f)\n",
    "    return mnist[\"training_images\"], mnist[\"training_labels\"], mnist[\"test_images\"], mnist[\"test_labels\"];\n",
    "X_train_np, y_train_np, X_test_np, y_test_np =load(); \n",
    "print (\"Train veri grubundaki görüntü pikselleri ile hedef değerlerinin ayrılması:\");\n",
    "print(\"X_train:\")\n",
    "print(X_train_np.shape);\n",
    "print(\"y_train:\")\n",
    "print(y_train_np.shape);\n",
    "\n",
    "print (\"Test veri grubundaki görüntü pikselleri ile hedef değerlerinin ayrılması:\");\n",
    "print(\"X_test:\")\n",
    "print(X_test_np.shape);\n",
    "print(\"y_test:\")\n",
    "print(y_test_np.shape);"
   ]
  },
  {
   "cell_type": "markdown",
   "metadata": {},
   "source": [
    "Aşağıda örnek bir X_trian görüntüsi verilmştir."
   ]
  },
  {
   "cell_type": "code",
   "execution_count": 19,
   "metadata": {},
   "outputs": [
    {
     "data": {
      "text/plain": [
       "array([  0,   0,   0,   0,   0,   0,   0,   0,   0,   0,   0,   0,   0,\n",
       "         0,   0,   0,   0,   0,   0,   0,   0,   0,   0,   0,   0,   0,\n",
       "         0,   0,   0,   0,   0,   0,   0,   0,   0,   0,   0,   0,   0,\n",
       "         0,   0,   0,   0,   0,   0,   0,   0,   0,   0,   0,   0,   0,\n",
       "         0,   0,   0,   0,   0,   0,   0,   0,   0,   0,   0,   0,   0,\n",
       "         0,   0,   0,   0,   0,   0,   0,   0,   0,   0,   0,   0,   0,\n",
       "         0,   0,   0,   0,   0,   0,   0,   0,   0,   0,   0,   0,   0,\n",
       "         0,   0,   0,   0,   0,   0,   0,   0,   0,   0,   0,   0,   0,\n",
       "         0,   0,   0,   0,   0,   0,   0,   0,   0,   0,   0,   0,   0,\n",
       "         0,   0,   0,   0,   0,   0,   0,   0,   0,   0,   0,   0,   0,\n",
       "         0,   0,   0,   0,   0,   0,   0,   0,   0,   0,   0,   0,   0,\n",
       "         0,   0,   0,   0,   0,   0,   0,   0,   0,   0,   0,   0,   0,\n",
       "         0,   0,   0,   0,   0,   0,   0,   0,   0,   0,   0,   0,   0,\n",
       "         0,   0,   0,   0,   0,   0,   0,   0,   0,   0,   0,   0,  29,\n",
       "       130, 130, 225, 255, 255, 109,   7, 116, 243, 200,   6,   0,   0,\n",
       "         0,   0,   0,   0,   0,   0,   0,   0,   0,   0,   0,   0,   8,\n",
       "        95, 217, 253, 253, 253, 253, 253, 253, 253, 253, 253, 248,  11,\n",
       "         0,   0,   0,   0,   0,   0,   0,   0,   0,   0,   0,   0,   0,\n",
       "        27, 213, 253, 253, 240, 143, 111, 152, 253, 253, 253, 253, 194,\n",
       "        62,   0,   0,   0,   0,   0,   0,   0,   0,   0,   0,   0,   0,\n",
       "         0,  27, 213, 253, 215, 105,  31,   0,   7, 153, 253, 253, 253,\n",
       "       244,  73,   0,   0,   0,   0,   0,   0,   0,   0,   0,   0,   0,\n",
       "         0,   0,   0, 149, 253, 230,  34,   0,   0,   0,  69, 253, 253,\n",
       "       253, 253,  79,   0,   0,   0,   0,   0,   0,   0,   0,   0,   0,\n",
       "         0,   0,   0,   0,   0, 149, 253, 221,  13,   0,   0,  28, 156,\n",
       "       253, 253, 253, 176,  11,   0,   0,   0,   0,   0,   0,   0,   0,\n",
       "         0,   0,   0,   0,   0,   0,   0,  63, 236, 253, 175,  14,   0,\n",
       "       186, 253, 253, 253, 196,  13,   0,   0,   0,   0,   0,   0,   0,\n",
       "         0,   0,   0,   0,   0,   0,   0,   0,   0,   0,  71, 253, 253,\n",
       "       174,  50, 199, 253, 253, 237,  74,   0,   0,   0,   0,   0,   0,\n",
       "         0,   0,   0,   0,   0,   0,   0,   0,   0,   0,   0,   0,   9,\n",
       "        92, 234, 253, 253, 253, 253, 237,  74,   0,   0,   0,   0,   0,\n",
       "         0,   0,   0,   0,   0,   0,   0,   0,   0,   0,   0,   0,   0,\n",
       "         0,   0,   0,  77, 253, 253, 253, 236,  75,   0,   0,   0,   0,\n",
       "         0,   0,   0,   0,   0,   0,   0,   0,   0,   0,   0,   0,   0,\n",
       "         0,   0,   0,   0,  11, 161, 253, 253, 253, 151,   0,   0,   0,\n",
       "         0,   0,   0,   0,   0,   0,   0,   0,   0,   0,   0,   0,   0,\n",
       "         0,   0,   0,   0,   0,  10, 101, 253, 253, 237, 233, 158,   0,\n",
       "         0,   0,   0,   0,   0,   0,   0,   0,   0,   0,   0,   0,   0,\n",
       "         0,   0,   0,   0,   0,   0,   0, 131, 253, 253, 173,  38, 186,\n",
       "       185,   0,   0,   0,   0,   0,   0,   0,   0,   0,   0,   0,   0,\n",
       "         0,   0,   0,   0,   0,   0,   0,   0, 125, 237, 253, 114,  14,\n",
       "         0, 186, 185,   0,   0,   0,   0,   0,   0,   0,   0,   0,   0,\n",
       "         0,   0,   0,   0,   0,   0,   0,   0,   0,  62, 238, 253, 176,\n",
       "        13,   0,  21, 211, 185,   0,   0,   0,   0,   0,   0,   0,   0,\n",
       "         0,   0,   0,   0,   0,   0,   0,   0,   0,   0,  11, 240, 253,\n",
       "       226,  11,   0,   0, 165, 253, 136,   0,   0,   0,   0,   0,   0,\n",
       "         0,   0,   0,   0,   0,   0,   0,   0,   0,   0,   0,   0, 126,\n",
       "       253, 243,  69,   0,   0,  97, 246, 227,  36,   0,   0,   0,   0,\n",
       "         0,   0,   0,   0,   0,   0,   0,   0,   0,   0,   0,   0,   0,\n",
       "         0, 136, 253, 178, 112, 112, 194, 248, 253,  76,   0,   0,   0,\n",
       "         0,   0,   0,   0,   0,   0,   0,   0,   0,   0,   0,   0,   0,\n",
       "         0,   0,   0, 136, 253, 253, 253, 253, 253, 253, 142,   3,   0,\n",
       "         0,   0,   0,   0,   0,   0,   0,   0,   0,   0,   0,   0,   0,\n",
       "         0,   0,   0,   0,   0,  15, 253, 253, 253, 235, 129,  45,   2,\n",
       "         0,   0,   0,   0,   0,   0,   0,   0,   0,   0,   0,   0,   0,\n",
       "         0,   0,   0,   0,   0,   0,   0,   0,   0,   0,   0,   0,   0,\n",
       "         0,   0,   0,   0,   0,   0,   0,   0,   0,   0,   0,   0,   0,\n",
       "         0,   0,   0,   0,   0,   0,   0,   0,   0,   0,   0,   0,   0,\n",
       "         0,   0,   0,   0,   0,   0,   0,   0,   0,   0,   0,   0,   0,\n",
       "         0,   0,   0,   0], dtype=uint8)"
      ]
     },
     "metadata": {},
     "output_type": "display_data"
    },
    {
     "data": {
      "image/png": "[encoded data removed]",
      "text/plain": [
       "<Figure size 432x288 with 1 Axes>"
      ]
     },
     "metadata": {
      "needs_background": "light"
     },
     "output_type": "display_data"
    }
   ],
   "source": [
    "display(X_train_np[55]);\n",
    "plt.imshow(np.reshape(X_train_np[55],(28,28)))\n",
    "plt.show()"
   ]
  },
  {
   "cell_type": "markdown",
   "metadata": {},
   "source": [
    "Aşağıda örnek bir X_test görüntüsü verilmiştir:"
   ]
  },
  {
   "cell_type": "code",
   "execution_count": 20,
   "metadata": {},
   "outputs": [
    {
     "name": "stdout",
     "output_type": "stream",
     "text": [
      "[  0   0   0   0   0   0   0   0   0   0   0   0   0   0   0   0   0   0\n",
      "   0   0   0   0   0   0   0   0   0   0   0   0   0   0   0   0   0   0\n",
      "   0   0   0   0   0   0   0   0   0   0   0   0   0   0   0   0   0   0\n",
      "   0   0   0   0   0   0   0   0   0   0   0   0   0   0   0   0   0   0\n",
      "   0   0   0   0   0   0   0   0   0   0   0   0   0   0   0   0   0   0\n",
      "   0   0   0   0   0   0   0   0   0   0   0   0   0   0   0   0   0   0\n",
      "   0   0   0   0   0   0   0   0   0   0   0   0   0   0   0   0  51 132\n",
      " 214 253 254 253 203 162  41   0   0   0   0   0   0   0   0   0   0   0\n",
      "   0   0   0   0 102 142 203 203 253 252 253 252 151  70   0   0   0   0\n",
      "   0   0   0   0   0   0   0   0   0   0   0   0   0   0 254 253 244 203\n",
      " 142 102  82   0   0   0   0   0   0   0   0   0   0   0   0   0   0   0\n",
      "   0   0   0   0   0   0 172 252 203   0   0   0   0   0   0   0   0   0\n",
      "   0   0   0   0   0   0   0   0   0   0   0   0   0   0   0   0  21 223\n",
      " 234  30   0   0   0   0   0   0   0   0   0   0   0   0   0   0   0   0\n",
      "   0   0   0   0   0   0   0   0   0 122 253  50   0   0   0   0   0   0\n",
      "   0   0   0   0   0   0   0   0   0   0   0   0   0   0   0   0   0   0\n",
      "   0 123 254  91  51  51  51  10   0   0   0   0   0   0   0   0   0   0\n",
      "   0   0   0   0   0   0   0   0   0   0  21 223 253 252 253 252 253 172\n",
      "  82   0   0   0   0   0   0   0   0   0   0   0   0   0   0   0   0   0\n",
      "   0  21 214 253 203 162 102 102 203 223 254 253  51  10   0   0   0   0\n",
      "   0   0   0   0   0   0   0   0   0   0   0  61 253 171   0   0   0   0\n",
      "   0  20 112 192 253 212  41   0   0   0   0   0   0   0   0   0   0   0\n",
      "   0   0   0   0   0   0   0   0   0   0   0   0   0   0 102 203 234  51\n",
      "   0   0   0   0   0   0   0   0   0   0   0   0   0   0   0   0   0   0\n",
      "   0   0   0   0   0   0   0  20 213 232  82   0   0   0   0   0   0   0\n",
      "   0   0   0   0   0   0   0   0   0   0   0   0   0   0   0   0   0   0\n",
      "  62 203 234 112   0   0   0   0   0   0   0   0   0   0   0   0   0   0\n",
      "   0   0   0   0   0   0   0   0   0   0   0  20 213 252   0   0   0   0\n",
      "   0   0   0   0   0   0   0   0   0   0   0   0   0   0   0   0   0   0\n",
      "   0   0   0   0 153 253   0   0   0   0   0   0   0   0   0   0   0   0\n",
      "   0   0   0   0   0   0   0   0   0   0   0   0   0  41 233 212   0   0\n",
      "   0   0   0   0   0   0   0   0   0   0 113  92   0   0   0   0   0   0\n",
      "   0   0   0   0  31 173 244  40   0   0   0   0   0   0   0   0   0   0\n",
      "   0  82 253 151   0   0   0   0   0   0  21 102 102 183 233 212  81   0\n",
      "   0   0   0   0   0   0   0   0   0   0   0  82 255 253 234 152 153 193\n",
      " 173 253 254 253 254 213 142  20   0   0   0   0   0   0   0   0   0   0\n",
      "   0   0   0   0  71 151 151 232 253 212 192 151 131  50  50  10   0   0\n",
      "   0   0   0   0   0   0   0   0   0   0   0   0   0   0   0   0   0   0\n",
      "   0   0   0   0   0   0   0   0   0   0   0   0   0   0   0   0   0   0\n",
      "   0   0   0   0   0   0   0   0   0   0   0   0   0   0   0   0   0   0\n",
      "   0   0   0   0   0   0   0   0   0   0   0   0   0   0   0   0   0   0\n",
      "   0   0   0   0   0   0   0   0   0   0   0   0   0   0   0   0   0   0\n",
      "   0   0   0   0   0   0   0   0   0   0   0   0   0   0   0   0   0   0\n",
      "   0   0   0   0   0   0   0   0   0   0]\n"
     ]
    },
    {
     "data": {
      "image/png": "[encoded data removed]",
      "text/plain": [
       "<Figure size 432x288 with 1 Axes>"
      ]
     },
     "metadata": {
      "needs_background": "light"
     },
     "output_type": "display_data"
    }
   ],
   "source": [
    "print(X_test_np[15]);\n",
    "plt.imshow(np.reshape(X_train_np[15],(28,28)))\n",
    "plt.show()"
   ]
  },
  {
   "cell_type": "markdown",
   "metadata": {},
   "source": [
    "Yukarıdaki iki gruba ait görüntülerden anlaşılacağı üzere görüntüler 0-255 yoğunluk değerine sahip gri seviyeli görüntülerdir.\n",
    "Bu görüntülerin 0-1 intensity seviyesine sahip siyah beyaz görüntülere çevrilmesi gerekmektedir. "
   ]
  },
  {
   "cell_type": "code",
   "execution_count": 21,
   "metadata": {},
   "outputs": [],
   "source": [
    "X_train_np=X_train_np/255;\n",
    "X_test_np=X_test_np/255;\n"
   ]
  },
  {
   "cell_type": "markdown",
   "metadata": {},
   "source": [
    "Yukarıda veri analizinde ve  veri ön işlemsinde kulanılan Numpy objesi gruplar, logreg.py dosyasına girdi olarak verileceği için python list yapısına çevrilmiştir."
   ]
  },
  {
   "cell_type": "code",
   "execution_count": 22,
   "metadata": {},
   "outputs": [],
   "source": [
    "X_train=X_train_np.tolist();\n",
    "y_train=y_train_np.tolist();\n",
    "X_test=X_test_np.tolist();\n",
    "y_test=y_test_np.tolist();"
   ]
  },
  {
   "cell_type": "markdown",
   "metadata": {},
   "source": [
    "# Logistic Regresyon Modelinin Eğitilmesi"
   ]
  },
  {
   "cell_type": "markdown",
   "metadata": {},
   "source": [
    "Modelin parametrelerinden;\n",
    "öğrenme oranı=0.01\n",
    "iterasyon sayısı=15 ve\n",
    "batch_size (her iterasyonda kullanılan veri sayısı) =100\n",
    "seçilmiştir."
   ]
  },
  {
   "cell_type": "code",
   "execution_count": 23,
   "metadata": {},
   "outputs": [],
   "source": [
    "lr=LogisticRegression(0.01,15,100);"
   ]
  },
  {
   "cell_type": "code",
   "execution_count": 24,
   "metadata": {},
   "outputs": [
    {
     "name": "stdout",
     "output_type": "stream",
     "text": [
      "Epoch 1, Batch 0, Loss 239.37\n",
      "Epoch 1, Batch 100, Loss 159.98\n",
      "Epoch 1, Batch 200, Loss 125.77\n",
      "Epoch 1, Batch 300, Loss 109.47\n",
      "Epoch 1, Batch 400, Loss 95.01\n",
      "Epoch 1, Batch 500, Loss 77.09\n",
      "Train loss: \n",
      "45612.065356499596\n",
      "Train Accuracy: \n",
      "0.8336666666666667\n",
      "Epoch 2, Batch 0, Loss 75.45\n",
      "Epoch 2, Batch 100, Loss 65.52\n",
      "Epoch 2, Batch 200, Loss 69.44\n",
      "Epoch 2, Batch 300, Loss 66.39\n",
      "Epoch 2, Batch 400, Loss 60.90\n",
      "Epoch 2, Batch 500, Loss 59.55\n",
      "Train loss: \n",
      "35333.11368182796\n",
      "Train Accuracy: \n",
      "0.85855\n",
      "Epoch 3, Batch 0, Loss 58.23\n",
      "Epoch 3, Batch 100, Loss 59.42\n",
      "Epoch 3, Batch 200, Loss 54.94\n",
      "Epoch 3, Batch 300, Loss 57.21\n",
      "Epoch 3, Batch 400, Loss 46.68\n",
      "Epoch 3, Batch 500, Loss 50.52\n",
      "Train loss: \n",
      "31172.355851529075\n",
      "Train Accuracy: \n",
      "0.86885\n",
      "Epoch 4, Batch 0, Loss 45.13\n",
      "Epoch 4, Batch 100, Loss 50.79\n",
      "Epoch 4, Batch 200, Loss 50.32\n",
      "Epoch 4, Batch 300, Loss 49.10\n",
      "Epoch 4, Batch 400, Loss 59.94\n",
      "Epoch 4, Batch 500, Loss 40.05\n",
      "Train loss: \n",
      "28749.18493175004\n",
      "Train Accuracy: \n",
      "0.8758166666666667\n",
      "Epoch 5, Batch 0, Loss 55.09\n",
      "Epoch 5, Batch 100, Loss 38.22\n",
      "Epoch 5, Batch 200, Loss 54.25\n",
      "Epoch 5, Batch 300, Loss 43.04\n",
      "Epoch 5, Batch 400, Loss 32.09\n",
      "Epoch 5, Batch 500, Loss 46.27\n",
      "Train loss: \n",
      "27253.206075586346\n",
      "Train Accuracy: \n",
      "0.8807333333333334\n",
      "Epoch 6, Batch 0, Loss 41.97\n",
      "Epoch 6, Batch 100, Loss 59.30\n",
      "Epoch 6, Batch 200, Loss 48.91\n",
      "Epoch 6, Batch 300, Loss 44.89\n",
      "Epoch 6, Batch 400, Loss 40.95\n",
      "Epoch 6, Batch 500, Loss 36.67\n",
      "Train loss: \n",
      "26170.381485161473\n",
      "Train Accuracy: \n",
      "0.8833166666666666\n",
      "Epoch 7, Batch 0, Loss 35.01\n",
      "Epoch 7, Batch 100, Loss 30.47\n",
      "Epoch 7, Batch 200, Loss 43.95\n",
      "Epoch 7, Batch 300, Loss 36.26\n",
      "Epoch 7, Batch 400, Loss 41.39\n",
      "Epoch 7, Batch 500, Loss 49.92\n",
      "Train loss: \n",
      "25454.215008078114\n",
      "Train Accuracy: \n",
      "0.88515\n",
      "Epoch 8, Batch 0, Loss 47.11\n",
      "Epoch 8, Batch 100, Loss 38.53\n",
      "Epoch 8, Batch 200, Loss 39.85\n",
      "Epoch 8, Batch 300, Loss 41.31\n",
      "Epoch 8, Batch 400, Loss 43.05\n",
      "Epoch 8, Batch 500, Loss 36.17\n",
      "Train loss: \n",
      "24738.788851054145\n",
      "Train Accuracy: \n",
      "0.8873\n",
      "Epoch 9, Batch 0, Loss 36.08\n",
      "Epoch 9, Batch 100, Loss 34.53\n",
      "Epoch 9, Batch 200, Loss 42.24\n",
      "Epoch 9, Batch 300, Loss 40.85\n",
      "Epoch 9, Batch 400, Loss 30.36\n",
      "Epoch 9, Batch 500, Loss 31.18\n",
      "Train loss: \n",
      "24278.979835011254\n",
      "Train Accuracy: \n",
      "0.8884333333333333\n",
      "Epoch 10, Batch 0, Loss 41.55\n",
      "Epoch 10, Batch 100, Loss 27.39\n",
      "Epoch 10, Batch 200, Loss 39.46\n",
      "Epoch 10, Batch 300, Loss 45.01\n",
      "Epoch 10, Batch 400, Loss 43.35\n",
      "Epoch 10, Batch 500, Loss 46.83\n",
      "Train loss: \n",
      "23831.951086160585\n",
      "Train Accuracy: \n",
      "0.8893833333333333\n",
      "Epoch 11, Batch 0, Loss 33.69\n",
      "Epoch 11, Batch 100, Loss 41.90\n",
      "Epoch 11, Batch 200, Loss 34.98\n",
      "Epoch 11, Batch 300, Loss 33.81\n",
      "Epoch 11, Batch 400, Loss 39.62\n",
      "Epoch 11, Batch 500, Loss 37.97\n",
      "Train loss: \n",
      "23413.780572082364\n",
      "Train Accuracy: \n",
      "0.89175\n",
      "Epoch 12, Batch 0, Loss 40.35\n",
      "Epoch 12, Batch 100, Loss 33.02\n",
      "Epoch 12, Batch 200, Loss 30.72\n",
      "Epoch 12, Batch 300, Loss 38.59\n",
      "Epoch 12, Batch 400, Loss 36.45\n",
      "Epoch 12, Batch 500, Loss 42.56\n",
      "Train loss: \n",
      "23115.55245768417\n",
      "Train Accuracy: \n",
      "0.8925333333333333\n",
      "Epoch 13, Batch 0, Loss 27.65\n",
      "Epoch 13, Batch 100, Loss 47.14\n",
      "Epoch 13, Batch 200, Loss 21.82\n",
      "Epoch 13, Batch 300, Loss 33.33\n",
      "Epoch 13, Batch 400, Loss 21.04\n",
      "Epoch 13, Batch 500, Loss 39.95\n",
      "Train loss: \n",
      "23006.894550907247\n",
      "Train Accuracy: \n",
      "0.8919833333333334\n",
      "Epoch 14, Batch 0, Loss 34.66\n",
      "Epoch 14, Batch 100, Loss 39.65\n",
      "Epoch 14, Batch 200, Loss 40.66\n",
      "Epoch 14, Batch 300, Loss 31.31\n",
      "Epoch 14, Batch 400, Loss 36.17\n",
      "Epoch 14, Batch 500, Loss 42.30\n",
      "Train loss: \n",
      "22571.97585619523\n",
      "Train Accuracy: \n",
      "0.8939833333333334\n",
      "Epoch 15, Batch 0, Loss 48.71\n",
      "Epoch 15, Batch 100, Loss 19.94\n",
      "Epoch 15, Batch 200, Loss 40.71\n",
      "Epoch 15, Batch 300, Loss 35.37\n",
      "Epoch 15, Batch 400, Loss 37.47\n",
      "Epoch 15, Batch 500, Loss 39.16\n",
      "Train loss: \n",
      "22587.799801293168\n",
      "Train Accuracy: \n",
      "0.8926833333333334\n"
     ]
    }
   ],
   "source": [
    "lr.fit(X_train,y_train);"
   ]
  },
  {
   "cell_type": "markdown",
   "metadata": {},
   "source": [
    "# Test Değerlerinin Tahmin Edilmesi"
   ]
  },
  {
   "cell_type": "code",
   "execution_count": 27,
   "metadata": {},
   "outputs": [],
   "source": [
    "yhat = lr.predict(X_test)"
   ]
  },
  {
   "cell_type": "markdown",
   "metadata": {},
   "source": [
    "# Eğitim Değerlerinin Tahmin Edilmesi"
   ]
  },
  {
   "cell_type": "code",
   "execution_count": 28,
   "metadata": {},
   "outputs": [],
   "source": [
    "xhat = lr.predict(X_train)"
   ]
  },
  {
   "cell_type": "markdown",
   "metadata": {},
   "source": [
    "### Tahmin Edilen Test Değerleri ile Beklenen Test Değerlerinin Karşılaştırması "
   ]
  },
  {
   "cell_type": "code",
   "execution_count": 33,
   "metadata": {},
   "outputs": [
    {
     "name": "stdout",
     "output_type": "stream",
     "text": [
      "Beklenen Test Sınıfı Değerleri:\n",
      "[7, 2, 1, 0, 4, 1, 4, 9, 5, 9, 0, 6, 9, 0, 1, 5, 9, 7, 3, 4, 9, 6, 6, 5, 4, 0, 7, 4, 0, 1, 3, 1, 3, 4, 7, 2, 7, 1, 2, 1, 1, 7, 4, 2, 3, 5, 1, 2, 4, 4, 6, 3, 5, 5, 6, 0, 4, 1, 9, 5, 7, 8, 9, 3, 7, 4, 6, 4, 3, 0, 7, 0, 2, 9, 1, 7, 3, 2, 9, 7, 7, 6, 2, 7, 8, 4, 7, 3, 6, 1, 3, 6, 9, 3, 1, 4, 1, 7, 6, 9]\n",
      "Tahmin Değerleri:\n",
      "[7, 2, 1, 0, 4, 1, 4, 9, 6, 9, 0, 6, 9, 0, 1, 5, 9, 7, 3, 4, 9, 6, 6, 5, 4, 0, 7, 4, 0, 1, 3, 1, 3, 6, 7, 2, 7, 1, 2, 1, 1, 7, 4, 2, 3, 5, 3, 2, 4, 4, 6, 3, 5, 5, 6, 0, 4, 1, 9, 5, 7, 8, 9, 2, 7, 4, 6, 4, 3, 0, 7, 0, 2, 9, 1, 7, 3, 7, 9, 7, 7, 6, 2, 7, 8, 4, 7, 3, 6, 1, 3, 6, 9, 3, 1, 4, 1, 7, 6, 9]\n"
     ]
    }
   ],
   "source": [
    "print(\"Beklenen Test Sınıfı Değerleri:\")\n",
    "print(y_test[0:100]);\n",
    "print(\"Tahmin Değerleri:\")\n",
    "print(yhat[0:100]);"
   ]
  },
  {
   "cell_type": "markdown",
   "metadata": {},
   "source": [
    "### Tahmin Edilen Eğitim Değerleri ile Beklenen Eğitim Değerlerinin Karşılaştırması "
   ]
  },
  {
   "cell_type": "code",
   "execution_count": 34,
   "metadata": {},
   "outputs": [
    {
     "name": "stdout",
     "output_type": "stream",
     "text": [
      "Beklenen Eğitim Sınıfı Değerleri:\n",
      "[5, 0, 4, 1, 9, 2, 1, 3, 1, 4, 3, 5, 3, 6, 1, 7, 2, 8, 6, 9, 4, 0, 9, 1, 1, 2, 4, 3, 2, 7, 3, 8, 6, 9, 0, 5, 6, 0, 7, 6, 1, 8, 7, 9, 3, 9, 8, 5, 9, 3, 3, 0, 7, 4, 9, 8, 0, 9, 4, 1, 4, 4, 6, 0, 4, 5, 6, 1, 0, 0, 1, 7, 1, 6, 3, 0, 2, 1, 1, 7, 9, 0, 2, 6, 7, 8, 3, 9, 0, 4, 6, 7, 4, 6, 8, 0, 7, 8, 3, 1, 5, 7, 1, 7, 1, 1, 6, 3, 0, 2, 9, 3, 1, 1, 0, 4, 9, 2, 0, 0, 2, 0, 2, 7, 1, 8, 6, 4, 1, 6, 3, 4, 5, 9, 1, 3, 3, 8, 5, 4, 7, 7, 4, 2, 8, 5, 8, 6, 7, 3, 4, 6, 1, 9, 9, 6, 0, 3, 7, 2, 8, 2, 9, 4, 4, 6, 4, 9, 7, 0, 9, 2, 9, 5, 1, 5, 9, 1, 2, 3, 2, 3, 5, 9, 1, 7, 6, 2, 8, 2, 2, 5, 0, 7, 4, 9, 7, 8, 3, 2, 1, 1, 8, 3, 6, 1, 0, 3, 1, 0, 0, 1, 7, 2, 7, 3, 0, 4, 6, 5, 2, 6, 4, 7, 1, 8, 9, 9, 3, 0, 7, 1, 0, 2, 0, 3, 5, 4, 6, 5, 8, 6, 3, 7, 5, 8, 0, 9, 1, 0, 3, 1, 2, 2, 3, 3, 6, 4, 7, 5, 0, 6, 2, 7, 9, 8, 5, 9, 2, 1, 1, 4, 4, 5, 6, 4, 1, 2, 5, 3, 9, 3, 9, 0, 5, 9, 6, 5, 7, 4, 1, 3, 4, 0, 4, 8, 0, 4, 3, 6, 8, 7, 6, 0, 9, 7, 5, 7, 2, 1, 1, 6, 8, 9, 4, 1, 5, 2, 2, 9, 0, 3, 9, 6, 7, 2, 0, 3, 5, 4, 3, 6, 5, 8, 9, 5, 4, 7, 4, 2, 7, 3, 4, 8, 9, 1, 9, 2, 8, 7, 9, 1, 8, 7, 4, 1, 3, 1, 1, 0, 2, 3, 9, 4, 9, 2, 1, 6, 8, 4, 7, 7, 4, 4, 9, 2, 5, 7, 2, 4, 4, 2, 1, 9, 7, 2, 8, 7, 6, 9, 2, 2, 3, 8, 1, 6, 5, 1, 1, 0, 2, 6, 4, 5, 8, 3, 1, 5, 1, 9, 2, 7, 4, 4, 4, 8, 1, 5, 8, 9, 5, 6, 7, 9, 9, 3, 7, 0, 9, 0, 6, 6, 2, 3, 9, 0, 7, 5, 4, 8, 0, 9, 4, 1, 2, 8, 7, 1, 2, 6, 1, 0, 3, 0, 1, 1, 8, 2, 0, 3, 9, 4, 0, 5, 0, 6, 1, 7, 7, 8, 1, 9, 2, 0, 5, 1, 2, 2, 7, 3, 5, 4, 9, 7, 1, 8, 3, 9, 6, 0, 3, 1, 1, 2, 6, 3, 5, 7, 6, 8, 3, 9, 5, 8, 5, 7, 6, 1, 1, 3, 1, 7, 5, 5, 5, 2, 5, 8, 7, 0, 9, 7, 7, 5, 0, 9, 0, 0, 8, 9, 2, 4, 8, 1, 6, 1, 6, 5, 1, 8, 3, 4, 0, 5, 5, 8, 3, 6, 2, 3, 9, 2, 1, 1, 5, 2, 1, 3, 2, 8, 7, 3, 7, 2, 4, 6, 9, 7, 2, 4, 2, 8, 1, 1, 3, 8, 4, 0, 6, 5, 9, 3, 0, 9, 2, 4, 7, 1, 2, 9, 4, 2, 6, 1, 8, 9, 0, 6, 6, 7]\n",
      "Tahmin Değerleri:\n",
      "[3, 0, 4, 1, 9, 2, 1, 3, 1, 4, 3, 8, 3, 6, 1, 7, 2, 8, 6, 9, 4, 0, 9, 1, 3, 2, 4, 3, 7, 7, 3, 8, 6, 7, 0, 5, 6, 0, 7, 6, 1, 8, 7, 9, 3, 9, 8, 5, 8, 3, 3, 0, 7, 4, 9, 8, 0, 9, 4, 1, 4, 4, 6, 0, 4, 5, 6, 1, 0, 0, 2, 7, 1, 6, 3, 0, 2, 1, 1, 7, 8, 0, 2, 6, 7, 8, 3, 9, 0, 4, 6, 7, 4, 6, 8, 0, 7, 8, 3, 1, 5, 7, 1, 7, 1, 1, 6, 3, 0, 6, 9, 3, 1, 1, 0, 4, 9, 2, 0, 0, 7, 0, 2, 7, 1, 8, 6, 4, 1, 6, 3, 4, 3, 9, 5, 3, 3, 8, 0, 4, 7, 7, 4, 8, 8, 5, 8, 6, 9, 3, 4, 6, 1, 9, 9, 6, 0, 3, 9, 2, 8, 2, 9, 4, 4, 6, 4, 9, 7, 0, 9, 2, 7, 8, 1, 5, 9, 1, 0, 3, 2, 8, 3, 9, 1, 7, 6, 2, 8, 2, 2, 5, 0, 7, 4, 9, 7, 8, 3, 2, 1, 1, 8, 3, 6, 1, 0, 3, 1, 0, 0, 1, 9, 2, 7, 3, 0, 4, 6, 5, 2, 6, 4, 7, 7, 8, 9, 9, 5, 0, 7, 1, 6, 2, 0, 3, 5, 4, 6, 5, 8, 6, 3, 7, 8, 8, 0, 9, 1, 0, 6, 1, 2, 2, 3, 3, 6, 4, 7, 5, 0, 6, 0, 7, 4, 8, 5, 9, 7, 1, 1, 4, 4, 5, 6, 4, 1, 2, 6, 3, 9, 3, 9, 0, 3, 9, 6, 5, 7, 4, 1, 3, 4, 0, 4, 8, 0, 4, 3, 6, 8, 7, 6, 0, 7, 7, 5, 7, 2, 1, 1, 6, 8, 9, 4, 1, 8, 2, 2, 9, 0, 3, 9, 6, 7, 2, 0, 3, 5, 4, 3, 6, 5, 8, 9, 5, 4, 7, 4, 2, 9, 3, 4, 8, 9, 1, 9, 2, 8, 7, 9, 1, 8, 7, 4, 1, 3, 1, 1, 0, 2, 3, 9, 4, 9, 2, 1, 6, 8, 4, 1, 7, 4, 4, 9, 2, 8, 7, 2, 4, 4, 2, 1, 9, 7, 2, 8, 7, 6, 9, 2, 3, 3, 8, 8, 6, 5, 1, 1, 0, 2, 6, 4, 5, 3, 3, 1, 5, 1, 9, 2, 7, 4, 4, 6, 8, 1, 5, 8, 9, 9, 6, 7, 9, 9, 3, 7, 0, 9, 0, 6, 6, 2, 3, 9, 0, 7, 5, 4, 8, 0, 9, 4, 1, 1, 8, 7, 1, 2, 6, 1, 0, 3, 0, 1, 1, 8, 2, 0, 9, 9, 4, 0, 5, 0, 6, 1, 7, 7, 8, 8, 9, 2, 0, 5, 1, 2, 2, 7, 3, 8, 4, 9, 7, 1, 8, 3, 9, 6, 0, 3, 1, 1, 2, 0, 3, 5, 2, 6, 8, 7, 9, 8, 8, 3, 7, 6, 1, 1, 9, 1, 7, 5, 5, 3, 2, 5, 8, 7, 0, 9, 7, 7, 5, 0, 9, 0, 0, 5, 9, 2, 4, 8, 8, 6, 1, 6, 5, 1, 8, 3, 4, 0, 5, 3, 8, 3, 4, 2, 3, 9, 2, 1, 1, 8, 2, 1, 3, 8, 8, 7, 3, 7, 2, 4, 6, 9, 7, 2, 4, 2, 8, 1, 1, 3, 8, 4, 0, 6, 5, 9, 3, 0, 9, 6, 4, 7, 1, 8, 9, 4, 2, 6, 1, 8, 9, 0, 6, 6, 7]\n"
     ]
    }
   ],
   "source": [
    "print(\"Beklenen Eğitim Sınıfı Değerleri:\")\n",
    "print(y_train[0:600]);\n",
    "print(\"Tahmin Değerleri:\")\n",
    "print(xhat[0:600]);"
   ]
  },
  {
   "cell_type": "markdown",
   "metadata": {},
   "source": [
    "# Results"
   ]
  },
  {
   "cell_type": "code",
   "execution_count": 35,
   "metadata": {},
   "outputs": [],
   "source": [
    "y_pred2 = pd.Series(yhat);\n",
    "y_test2 = pd.Series(y_test);"
   ]
  },
  {
   "cell_type": "markdown",
   "metadata": {},
   "source": [
    "### Test Verilerinin Confusion Matriksi "
   ]
  },
  {
   "cell_type": "code",
   "execution_count": 36,
   "metadata": {},
   "outputs": [
    {
     "data": {
      "image/png": "[encoded data removed]",
      "text/plain": [
       "<Figure size 432x288 with 2 Axes>"
      ]
     },
     "metadata": {},
     "output_type": "display_data"
    }
   ],
   "source": [
    "mt=metrics.confusion_matrix(y_test2, y_pred2)\n",
    "df_cm = pd.DataFrame(mt, range(10), range(10))\n",
    "sns.set(font_scale=1.4)\n",
    "sns.heatmap(df_cm, annot=True, annot_kws={\"size\": 12}) # font size\n",
    "plt.show()"
   ]
  },
  {
   "cell_type": "markdown",
   "metadata": {},
   "source": [
    "### Eğitim Verilerinin Confusion Matriksi "
   ]
  },
  {
   "cell_type": "code",
   "execution_count": 37,
   "metadata": {},
   "outputs": [
    {
     "data": {
      "image/png": "[encoded data removed]",
      "text/plain": [
       "<Figure size 432x288 with 2 Axes>"
      ]
     },
     "metadata": {},
     "output_type": "display_data"
    }
   ],
   "source": [
    "x_pred2 = pd.Series(xhat);\n",
    "x_test2 = pd.Series(y_train);\n",
    "mt=metrics.confusion_matrix(x_test2, x_pred2)\n",
    "df_cm = pd.DataFrame(mt, range(10), range(10))\n",
    "sns.set(font_scale=1.4)\n",
    "sns.heatmap(df_cm, annot=True, annot_kws={\"size\": 12}) # font size\n",
    "plt.show()\n"
   ]
  },
  {
   "cell_type": "markdown",
   "metadata": {},
   "source": [
    "### F1-Score"
   ]
  },
  {
   "cell_type": "code",
   "execution_count": 38,
   "metadata": {},
   "outputs": [
    {
     "name": "stdout",
     "output_type": "stream",
     "text": [
      "F1-Score Test:\n",
      "0.8988175930531688\n",
      "F1-Score Train:\n",
      "0.8927050218037105\n"
     ]
    }
   ],
   "source": [
    "f1=metrics.f1_score(y_test2, y_pred2,average='weighted');\n",
    "print(\"F1-Score Test:\")\n",
    "print(f1);\n",
    "f2=metrics.f1_score(x_test2, x_pred2,average='weighted');\n",
    "print(\"F1-Score Train:\")\n",
    "print(f2);"
   ]
  },
  {
   "cell_type": "markdown",
   "metadata": {},
   "source": [
    "### Accuracy"
   ]
  },
  {
   "cell_type": "code",
   "execution_count": 39,
   "metadata": {},
   "outputs": [
    {
     "name": "stdout",
     "output_type": "stream",
     "text": [
      "Accuracy Test\n",
      "0.8988\n",
      "Accuracy Train\n",
      "0.8926833333333334\n"
     ]
    }
   ],
   "source": [
    "accuracy= metrics.accuracy_score(y_test2, y_pred2);\n",
    "print(\"Accuracy Test\")\n",
    "print(accuracy);\n",
    "accuracy2= metrics.accuracy_score(x_test2, x_pred2);\n",
    "print(\"Accuracy Train\")\n",
    "print(accuracy2);"
   ]
  },
  {
   "cell_type": "markdown",
   "metadata": {},
   "source": [
    "### Precision"
   ]
  },
  {
   "cell_type": "code",
   "execution_count": 40,
   "metadata": {},
   "outputs": [
    {
     "name": "stdout",
     "output_type": "stream",
     "text": [
      "Precision Test:\n",
      "0.9044740269242664\n",
      "Precision Train:\n",
      "0.8978696150945125\n"
     ]
    }
   ],
   "source": [
    "precision=metrics.precision_score(y_test2, y_pred2, average='weighted');\n",
    "print(\"Precision Test:\")\n",
    "print(precision);\n",
    "precision2=metrics.precision_score(x_test2, x_pred2, average='weighted');\n",
    "print(\"Precision Train:\")\n",
    "print(precision2);"
   ]
  },
  {
   "cell_type": "markdown",
   "metadata": {},
   "source": [
    "### Recal"
   ]
  },
  {
   "cell_type": "code",
   "execution_count": 41,
   "metadata": {},
   "outputs": [
    {
     "name": "stdout",
     "output_type": "stream",
     "text": [
      "Recall Test:\n",
      "0.8988\n",
      "Recall Train:\n",
      "0.8926833333333334\n"
     ]
    }
   ],
   "source": [
    "recall=metrics.recall_score(y_test2, y_pred2,average='weighted');\n",
    "print(\"Recall Test:\")\n",
    "print(recall);\n",
    "recall2=metrics.recall_score(x_test2, x_pred2,average='weighted');\n",
    "print(\"Recall Train:\")\n",
    "print(recall2)"
   ]
  },
  {
   "cell_type": "markdown",
   "metadata": {},
   "source": [
    "Eğitim başarımın 4 kriter içinde yaklaşık %90'lık başarım gösterdiği gözlemlenmiştir. %100'e yakın bir başarım için iterasyon sayısı arttırılabilir ya da  batch_size arttırabilir."
   ]
  },
  {
   "cell_type": "markdown",
   "metadata": {},
   "source": [
    "4 farklı başarım kriterinden de görüldüğü üzere test verisinin başarımı göz ardı edilebilecek şekilde eğitim verisinin başarımından yüksektir."
   ]
  },
  {
   "cell_type": "markdown",
   "metadata": {},
   "source": [
    "Bunun nedeni test ve eğitim veri gruplarındaki görsellerin temsil ettiği rakamların, genel veriye göre dağılımlarının farklı olması olabilir."
   ]
  },
  {
   "cell_type": "markdown",
   "metadata": {},
   "source": [
    "###  ROC Eğrileri (Test/Eğitim) ve  Eğrilerin AUC Değerleri (Test/Eğitim)"
   ]
  },
  {
   "cell_type": "code",
   "execution_count": 42,
   "metadata": {},
   "outputs": [
    {
     "data": {
      "image/png": "[encoded data removed]",
      "text/plain": [
       "<Figure size 432x288 with 1 Axes>"
      ]
     },
     "metadata": {},
     "output_type": "display_data"
    },
    {
     "name": "stdout",
     "output_type": "stream",
     "text": [
      "Auc Values of each classes ROC curve are written on graph\n",
      "Macro Auc value:\n",
      "0.9426926751382646\n"
     ]
    }
   ],
   "source": [
    "y_testb= label_binarize(y_test2, classes=[0, 1, 2,3,4,5,6,7,8,9]);\n",
    "y_predb= label_binarize(y_pred2, classes=[0, 1, 2,3,4,5,6,7,8,9]);\n",
    "\n",
    "fpr = dict()\n",
    "tpr = dict()\n",
    "roc_auc = dict()\n",
    "\n",
    "for i in range(10):\n",
    "    fpr[i], tpr[i], _ = roc_curve(y_testb[:,i], y_predb[:,i])\n",
    "    roc_auc[i] = auc(fpr[i], tpr[i])\n",
    "\n",
    "\n",
    "all_fpr = np.unique(np.concatenate([fpr[i] for i in range(10)]));\n",
    "mean_tpr = np.zeros_like(all_fpr)\n",
    "for i in range(10):\n",
    "    mean_tpr += np.interp(all_fpr, fpr[i], tpr[i]);\n",
    "mean_tpr /= 10;\n",
    "fpr[\"macro\"] = all_fpr\n",
    "tpr[\"macro\"] = mean_tpr\n",
    "roc_auc[\"macro\"] = auc(fpr[\"macro\"], tpr[\"macro\"]);\n",
    "\n",
    "colors = cycle(['aqua', 'darkorange', 'cornflowerblue'])\n",
    "for i, color in zip(range(10), colors):\n",
    "    plt.plot(fpr[i], tpr[i], color=color, lw=2,\n",
    "             label='ROC curve of class {0} (area = {1:0.2f})'\n",
    "             ''.format(i, roc_auc[i]))\n",
    "\n",
    "plt.plot([0, 1], [0, 1], 'k--', lw=2)\n",
    "plt.xlim([0.0, 1.0])\n",
    "plt.ylim([0.0, 1.05])\n",
    "plt.xlabel('False Positive Rate')\n",
    "plt.ylabel('True Positive Rate')\n",
    "plt.title('ROC Curves Test Data')\n",
    "plt.legend(bbox_to_anchor =(0.75, 1.15), ncol = 2)\n",
    "plt.show()\n",
    "print(\"Auc Values of each classes ROC curve are written on graph\")\n",
    "print(\"Macro Auc value:\")\n",
    "print(roc_auc[\"macro\"]);\n",
    "      "
   ]
  },
  {
   "cell_type": "code",
   "execution_count": 43,
   "metadata": {},
   "outputs": [
    {
     "data": {
      "image/png": "[encoded data removed]",
      "text/plain": [
       "<Figure size 432x288 with 1 Axes>"
      ]
     },
     "metadata": {},
     "output_type": "display_data"
    },
    {
     "name": "stdout",
     "output_type": "stream",
     "text": [
      "Auc Values of each classes ROC curve are written on graph\n",
      "Macro Auc value:\n",
      "0.9392242239150164\n"
     ]
    }
   ],
   "source": [
    "x_testb= label_binarize(x_test2, classes=[0, 1, 2,3,4,5,6,7,8,9]);\n",
    "x_predb= label_binarize(x_pred2, classes=[0, 1, 2,3,4,5,6,7,8,9]);\n",
    "\n",
    "fpr = dict()\n",
    "tpr = dict()\n",
    "roc_auc = dict()\n",
    "\n",
    "for i in range(10):\n",
    "    fpr[i], tpr[i], _ = roc_curve(x_testb[:,i], x_predb[:,i])\n",
    "    roc_auc[i] = auc(fpr[i], tpr[i])\n",
    "\n",
    "\n",
    "all_fpr = np.unique(np.concatenate([fpr[i] for i in range(10)]));\n",
    "mean_tpr = np.zeros_like(all_fpr)\n",
    "for i in range(10):\n",
    "    mean_tpr += np.interp(all_fpr, fpr[i], tpr[i]);\n",
    "mean_tpr /= 10;\n",
    "fpr[\"macro\"] = all_fpr\n",
    "tpr[\"macro\"] = mean_tpr\n",
    "roc_auc[\"macro\"] = auc(fpr[\"macro\"], tpr[\"macro\"]);\n",
    "\n",
    "colors = cycle(['aqua', 'darkorange', 'cornflowerblue'])\n",
    "for i, color in zip(range(10), colors):\n",
    "    plt.plot(fpr[i], tpr[i], color=color, lw=2,\n",
    "             label='ROC curve of class {0} (area = {1:0.2f})'\n",
    "             ''.format(i, roc_auc[i]))\n",
    "    \n",
    "            \n",
    "\n",
    "plt.plot([0, 1], [0, 1], 'k--', lw=2)\n",
    "plt.xlim([0.0, 1.0])\n",
    "plt.ylim([0.0, 1.05])\n",
    "plt.xlabel('False Positive Rate')\n",
    "plt.ylabel('True Positive Rate')\n",
    "plt.title('ROC Curves Train Data')\n",
    "plt.legend(bbox_to_anchor =(0.75, 1.15), ncol = 2)\n",
    "plt.show()\n",
    "print(\"Auc Values of each classes ROC curve are written on graph\")\n",
    "print(\"Macro Auc value:\")\n",
    "print(roc_auc[\"macro\"]);"
   ]
  },
  {
   "cell_type": "markdown",
   "metadata": {},
   "source": [
    "Yukardaki veriler göz önüne alınarak, modelin yaklaşık %90'lık başarımı elde ettiği gözlemlenmiştir.\n",
    "Bunun yanında test sınıfı başarımı ile eğitim sınıfı başarımı arasında minimal bir fark olması, modelin eğitim verilerini ezberlemediğini yani modelde overfitting olmadığını ortaya koymuştur."
   ]
  },
  {
   "cell_type": "markdown",
   "metadata": {},
   "source": [
    "Bunun yanında test sınıfındaki başarımın eğitim sınıfındaki başarımdan küçük bir farkla daha yüksek olduğu gözlemlenmiştir.\n",
    "Bunun nedeni çalışmada test ve eğitim sınıfları oluşturulurken, ortak bir veri setinin homojen dağılımla test ve train sınıfı olarak ayrılmasındansa, her bir veri sınıfı için farklı veri kaynakları kullanılmasından kaynaklı olabilir."
   ]
  }
 ],
 "metadata": {
  "celltoolbar": "Raw Cell Format",
  "interpreter": {
   "hash": "772bdfc5039a7b52748c774ea658e94c59c1cdbaa577ae0ba0d8baeda1aa2344"
  },
  "kernelspec": {
   "display_name": "Python 3",
   "language": "python",
   "name": "python3"
  },
  "language_info": {
   "codemirror_mode": {
    "name": "ipython",
    "version": 3
   },
   "file_extension": ".py",
   "mimetype": "text/x-python",
   "name": "python",
   "nbconvert_exporter": "python",
   "pygments_lexer": "ipython3",
   "version": "3.8.8"
  },
  "toc": {
   "base_numbering": 1,
   "nav_menu": {},
   "number_sections": true,
   "sideBar": true,
   "skip_h1_title": false,
   "title_cell": "Table of Contents",
   "title_sidebar": "Contents",
   "toc_cell": false,
   "toc_position": {},
   "toc_section_display": true,
   "toc_window_display": false
  },
  "varInspector": {
   "cols": {
    "lenName": 16,
    "lenType": 16,
    "lenVar": 40
   },
   "kernels_config": {
    "python": {
     "delete_cmd_postfix": "",
     "delete_cmd_prefix": "del ",
     "library": "var_list.py",
     "varRefreshCmd": "print(var_dic_list())"
    },
    "r": {
     "delete_cmd_postfix": ") ",
     "delete_cmd_prefix": "rm(",
     "library": "var_list.r",
     "varRefreshCmd": "cat(var_dic_list()) "
    }
   },
   "types_to_exclude": [
    "module",
    "function",
    "builtin_function_or_method",
    "instance",
    "_Feature"
   ],
   "window_display": false
  }
 },
 "nbformat": 4,
 "nbformat_minor": 2
}
